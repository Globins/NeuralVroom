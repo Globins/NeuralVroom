{
 "cells": [
  {
   "cell_type": "code",
   "execution_count": 1,
   "metadata": {},
   "outputs": [
    {
     "name": "stdout",
     "output_type": "stream",
     "text": [
      "importing Jupyter notebook from HybridAstar.ipynb\n",
      "importing Jupyter notebook from Node.ipynb\n"
     ]
    }
   ],
   "source": [
    "import import_ipynb #Allows you to import ipynb files (TEMPORARY?)\n",
    "from queue import PriorityQueue\n",
    "import HybridAstar as has"
   ]
  },
  {
   "cell_type": "code",
   "execution_count": 2,
   "metadata": {},
   "outputs": [
    {
     "name": "stdout",
     "output_type": "stream",
     "text": [
      "[(0, 0), (1, 1), (2, 2), (3, 3), (4, 3), (5, 4), (5, 5)]\n"
     ]
    }
   ],
   "source": [
    "maze = [[0, 0, 0, 0, 1, 0],\n",
    "        [0, 0, 0, 0, 1, 0],\n",
    "        [0, 0, 0, 0, 1, 0],\n",
    "        [0, 0, 0, 0, 1, 0],\n",
    "        [0, 0, 0, 0, 1, 0],\n",
    "        [0, 0, 0, 0, 0, 0]]\n",
    "graph = [[0, 1, 0, 0, 0, 0],\n",
    "         [1, 0, 1, 0, 1, 0],\n",
    "         [0, 1, 0, 0, 0, 1],\n",
    "         [0, 0, 0, 0, 1, 0],\n",
    "         [0, 1, 0, 1, 0, 0],\n",
    "         [0, 0, 1, 0, 0, 0]]\n",
    "start = (0, 0)\n",
    "end = (5, 5)\n",
    "pf = has.HybridAStar(maze, start, end)\n",
    "path = pf.GeneratePath()\n",
    "print(path)"
   ]
  },
  {
   "cell_type": "code",
   "execution_count": null,
   "metadata": {},
   "outputs": [],
   "source": []
  }
 ],
 "metadata": {
  "kernelspec": {
   "display_name": "Python 3",
   "language": "python",
   "name": "python3"
  },
  "language_info": {
   "codemirror_mode": {
    "name": "ipython",
    "version": 3
   },
   "file_extension": ".py",
   "mimetype": "text/x-python",
   "name": "python",
   "nbconvert_exporter": "python",
   "pygments_lexer": "ipython3",
   "version": "3.8.3"
  }
 },
 "nbformat": 4,
 "nbformat_minor": 4
}
