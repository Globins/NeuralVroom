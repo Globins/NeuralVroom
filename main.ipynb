{
 "cells": [
  {
   "cell_type": "code",
   "execution_count": 6,
   "metadata": {},
   "outputs": [
    {
     "name": "stdout",
     "output_type": "stream",
     "text": [
      "importing Jupyter notebook from AStar.ipynb\n",
      "importing Jupyter notebook from ReedsShepp.ipynb\n",
      "importing Jupyter notebook from HybridAStar.ipynb\n"
     ]
    }
   ],
   "source": [
    "import import_ipynb #Allows you to import ipynb files (TEMPORARY?)\n",
    "from queue import PriorityQueue\n",
    "import AStar as AStar\n",
    "import ReedsShepp as RS\n",
    "import HybridAStar as HAS"
   ]
  },
  {
   "cell_type": "code",
   "execution_count": 5,
   "metadata": {},
   "outputs": [
    {
     "name": "stdout",
     "output_type": "stream",
     "text": [
      "[(0, 0), (1, 1), (2, 2), (3, 3), (4, 4), (5, 5)]\n"
     ]
    }
   ],
   "source": [
    "#Testing AStar\n",
    "\n",
    "maze = [[0, 0, 0, 0, 1, 0],\n",
    "        [0, 0, 0, 0, 1, 0],\n",
    "        [0, 0, 0, 0, 1, 0],\n",
    "        [0, 0, 0, 0, 1, 0],\n",
    "        [0, 0, 0, 0, 1, 0],\n",
    "        [0, 0, 0, 0, 0, 0]]\n",
    "graph = [[0, 1, 0, 0, 0, 0],\n",
    "         [1, 0, 1, 0, 1, 0],\n",
    "         [0, 1, 0, 0, 0, 1],\n",
    "         [0, 0, 0, 0, 1, 0],\n",
    "         [0, 1, 0, 1, 0, 0],\n",
    "         [0, 0, 1, 0, 0, 0]]\n",
    "start = (0, 0)\n",
    "end = (5, 5)\n",
    "pf = AStar.AStar(graph, start, end)\n",
    "path = pf.run()\n",
    "print(path)"
   ]
  },
  {
   "cell_type": "code",
   "execution_count": 7,
   "metadata": {},
   "outputs": [],
   "source": [
    "#Testing ReedsShepp\n",
    "maze = [[0, 0, 0, 0, 1, 0],\n",
    "        [0, 0, 0, 0, 1, 0],\n",
    "        [0, 0, 0, 0, 1, 0],\n",
    "        [0, 0, 0, 0, 1, 0],\n",
    "        [0, 0, 0, 0, 1, 0],\n",
    "        [0, 0, 0, 0, 0, 0]]"
   ]
  },
  {
   "cell_type": "code",
   "execution_count": null,
   "metadata": {},
   "outputs": [],
   "source": [
    "#Testing Hybrid AStar"
   ]
  }
 ],
 "metadata": {
  "kernelspec": {
   "display_name": "Python 3",
   "language": "python",
   "name": "python3"
  },
  "language_info": {
   "codemirror_mode": {
    "name": "ipython",
    "version": 3
   },
   "file_extension": ".py",
   "mimetype": "text/x-python",
   "name": "python",
   "nbconvert_exporter": "python",
   "pygments_lexer": "ipython3",
   "version": "3.8.3"
  }
 },
 "nbformat": 4,
 "nbformat_minor": 4
}
