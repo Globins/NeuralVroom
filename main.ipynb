{
 "cells": [
  {
   "cell_type": "code",
   "execution_count": 22,
   "metadata": {},
   "outputs": [],
   "source": [
    "#import import_ipynb #Allows you to import ipynb files\n",
    "import numpy as np\n",
    "import matplotlib.pyplot as plt\n",
    "from matplotlib import colors\n",
    "from sys import argv\n",
    "\n",
    "from pathfinder import *\n",
    "\n",
    "#3rd party libraries used:\n",
    "# Numpy\n",
    "# enum\n",
    "# import_ipynb\n",
    "# priority queue\n",
    "# dataclass\n",
    "# random\n",
    "# matlab\n",
    "#NEed to refactor HybridAStar\n",
    "# Args: ID, Position, orientation, smooth, Obs*"
   ]
  },
  {
   "cell_type": "code",
   "execution_count": 23,
   "metadata": {},
   "outputs": [
    {
     "data": {
      "text/plain": [
       "[]"
      ]
     },
     "execution_count": 23,
     "metadata": {},
     "output_type": "execute_result"
    }
   ],
   "source": [
    "carID = 0\n",
    "pos = 0\n",
    "ori = np.deg2rad(0)\n",
    "smooth = 0\n",
    "obstacle_list = []\n",
    "rows, cols = 31, 31\n",
    "g = Grid(rows, cols)\n",
    "[g.AddObstacle(obs) for obs in obstacle_list]\n",
    "#if id == 1: set vehicle"
   ]
  },
  {
   "cell_type": "code",
   "execution_count": 24,
   "metadata": {
    "scrolled": false
   },
   "outputs": [],
   "source": [
    "v = Vehicle((1,1))\n",
    "obstacle_list = [(0,0), (30,30), (15,15), (0,30), (30,0), (15,0), (0,15), (30,15), (15,30), (1,15),\n",
    "                (2,15), (3,15),(4,15),(5,15),(6,15),(7,15),(8,15),(9,15),(10,15),(11,15),(12,15),(13,15),(14,15),\n",
    "                (15,14),(15,13),(15,12),(15,11),(15,10)]\n",
    "[g.AddObstacle(obs) for obs in obstacle_list]\n",
    "\n",
    "start = VehicleState((29,24),np.deg2rad(180))\n",
    "end = VehicleState((4,4),np.deg2rad(135))\n",
    "\n",
    "hastar = HybridAStar(g, v)\n",
    "path, states = hastar.run(start,end)\n",
    "\n",
    "ps = PathSmoother()\n",
    "smoothPath = ps.smooth(states, g)"
   ]
  },
  {
   "cell_type": "code",
   "execution_count": 27,
   "metadata": {},
   "outputs": [],
   "source": [
    "%%capture cap --no-stderr\n",
    "for state in smoothPath:\n",
    "    if state.gear == Gear.Forward:\n",
    "        print((state.position[0], state.position[1], state.orientation, 0))\n",
    "    else:\n",
    "        print((state.position[0], state.position[1], state.orientation, 1))"
   ]
  },
  {
   "cell_type": "code",
   "execution_count": 6,
   "metadata": {},
   "outputs": [],
   "source": [
    "with open('output.txt', 'w') as f:\n",
    "     f.write(cap.stdout)"
   ]
  },
  {
   "cell_type": "code",
   "execution_count": 7,
   "metadata": {},
   "outputs": [],
   "source": [
    "# obs_X = [cell[0] for cell in g.obstacleCells]\n",
    "# obs_Y = [cell[1] for cell in g.obstacleCells]\n",
    "\n",
    "# path_X = [cell[0] for cell in path] \n",
    "# path_Y = [cell[1] for cell in path]\n",
    "\n",
    "# state_X = [state.position[0] for state in states] \n",
    "# state_Y = [state.position[1] for state in states]\n",
    "# state_O = [state.orientation for state in states]\n",
    "\n",
    "\n",
    "# smoothPath_X = [state.position[0] for state in smoothPath] \n",
    "# smoothPath_Y = [state.position[1] for state in smoothPath]\n",
    "# smoothPath_O = [state.orientation for state in smoothPath]\n",
    "\n",
    "# #PRINTER\n",
    "# #colormap\n",
    "# cmap = colors.ListedColormap(['white', 'black'])\n",
    "# bounds = [0,.5,1]\n",
    "# norm = colors.BoundaryNorm(bounds, cmap.N)\n",
    "\n",
    "# fig, ax = plt.subplots()\n",
    "# #x.imshow(data,extent=[0, rows, 0, cols], cmap=cmap, norm=norm)\n",
    "# ax.plot(start.position[0], start.position[1], marker='.', color='green', linestyle='none', MarkerSize=40)\n",
    "# x, y, a, b = start.position[0], start.position[1], 1, np.rad2deg(start.orientation)\n",
    "# x1, y1 = rpoint(x,y,a,b)\n",
    "# plt.arrow(x, y, (x1-x)/2, (y1-y)/2, head_width = .4, width = .1,color='green')\n",
    "# ax.plot(end.position[0], end.position[1], marker='.', color='red', linestyle='none', MarkerSize=40)\n",
    "# x, y, a, b = end.position[0], end.position[1], 1, np.rad2deg(end.orientation)\n",
    "# x1, y1 = rpoint(x,y,a,b)\n",
    "# plt.arrow(x, y, (x1-x)/2, (y1-y)/2, head_width = .4, width = .1,color='red')\n",
    "\n",
    "# ax.plot(path_X, path_Y, marker='.', color='blue', MarkerSize=10)\n",
    "# ax.plot(state_X, state_Y, marker='*', color='purple', MarkerSize=10)\n",
    "# ax.plot(smoothPath_X, smoothPath_Y, marker='*', color='green', MarkerSize=10)\n",
    "# ax.plot(obs_X, obs_Y, marker='*', color='black', MarkerSize=25, linestyle='none')\n",
    "# #draw gridlines\n",
    "# ax.grid(which='major', axis='both', linestyle='-', color='k', linewidth=1)\n",
    "# ax.set_xticks(np.arange(0, rows, 1))\n",
    "# ax.set_yticks(np.arange(0, cols, 1))\n",
    "# for index in range(len(state_O)):\n",
    "#     x, y, a, b = state_X[index], state_Y[index], 1, np.rad2deg(state_O[index])\n",
    "#     x1, y1 = rpoint(x,y,a,b)\n",
    "#     plt.arrow(x, y, (x1-x)/2, (y1-y)/2, head_width = .4, width = .1,)\n",
    "# for index in range(len(smoothPath_O)):\n",
    "#     x, y, a, b = smoothPath_X[index], smoothPath_Y[index], 1, np.rad2deg(smoothPath_O[index])\n",
    "#     x1, y1 = rpoint(x,y,a,b)\n",
    "#     plt.arrow(x, y, (x1-x)/2, (y1-y)/2, head_width = .4, width = .1,)\n",
    "    \n",
    "# plt.rcParams['figure.figsize'] = [18, 18]\n",
    "# plt.show()"
   ]
  },
  {
   "cell_type": "code",
   "execution_count": 8,
   "metadata": {},
   "outputs": [],
   "source": [
    "#Overall Algorithm\n",
    "#First the car will report any obstacles in its way\n",
    "#if any, add to map w/ appropriate location\n",
    "#then perform a* algorithm with global map\n",
    "#do a check if there's a collision\n",
    "#if so, run machine learning algorithm to change, unless there are no changes to the map\n",
    "#Should only use machine learning algo IF and only IF there are changes to the map\n",
    "#return path to car, use route instructions to move car appropriately"
   ]
  },
  {
   "cell_type": "code",
   "execution_count": 9,
   "metadata": {},
   "outputs": [],
   "source": [
    "#ALL MEASUREMENTS IN CM"
   ]
  },
  {
   "cell_type": "code",
   "execution_count": null,
   "metadata": {},
   "outputs": [],
   "source": []
  }
 ],
 "metadata": {
  "kernelspec": {
   "display_name": "Python 3",
   "language": "python",
   "name": "python3"
  },
  "language_info": {
   "codemirror_mode": {
    "name": "ipython",
    "version": 3
   },
   "file_extension": ".py",
   "mimetype": "text/x-python",
   "name": "python",
   "nbconvert_exporter": "python",
   "pygments_lexer": "ipython3",
   "version": "3.8.3"
  }
 },
 "nbformat": 4,
 "nbformat_minor": 4
}
