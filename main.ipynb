{
 "cells": [
  {
   "cell_type": "code",
   "execution_count": 1,
   "metadata": {},
   "outputs": [
    {
     "name": "stdout",
     "output_type": "stream",
     "text": [
      "importing Jupyter notebook from AStar.ipynb\n",
      "importing Jupyter notebook from Grid.ipynb\n",
      "importing Jupyter notebook from vehicle.ipynb\n",
      "importing Jupyter notebook from utils.ipynb\n",
      "importing Jupyter notebook from GVD.ipynb\n",
      "importing Jupyter notebook from HybridAStar.ipynb\n",
      "importing Jupyter notebook from reedsshepp.ipynb\n"
     ]
    },
    {
     "data": {
      "text/html": [
       "<style>pre { white-space: pre !important; }</style>"
      ],
      "text/plain": [
       "<IPython.core.display.HTML object>"
      ]
     },
     "metadata": {},
     "output_type": "display_data"
    },
    {
     "data": {
      "text/html": [
       "<style>pre { white-space: pre !important; }</style>"
      ],
      "text/plain": [
       "<IPython.core.display.HTML object>"
      ]
     },
     "metadata": {},
     "output_type": "display_data"
    }
   ],
   "source": [
    "import import_ipynb #Allows you to import ipynb files\n",
    "import numpy as np\n",
    "import matplotlib.pyplot as plt\n",
    "from matplotlib import colors\n",
    "\n",
    "import AStar\n",
    "from Grid import Grid\n",
    "from utils import *\n",
    "from HybridAStar import HybridAStar\n",
    "from vehicle import *\n",
    "\n",
    "\n",
    "from IPython.core.display import HTML\n",
    "display(HTML(\"<style>pre { white-space: pre !important; }</style>\"))\n",
    "np.set_printoptions(threshold=np.inf)"
   ]
  },
  {
   "cell_type": "code",
   "execution_count": 21,
   "metadata": {
    "scrolled": false
   },
   "outputs": [],
   "source": [
    "v = Vehicle((1,1))\n",
    "rows, cols = 31, 31\n",
    "g = Grid(rows, cols)\n",
    "obstacle_list = [(0,0), (30,30), (15,15), (0,30), (30,0), (15,0), (0,15), (30,15), (15,30)]\n",
    "[g.AddObstacle(obs) for obs in obstacle_list]\n",
    "obs_X = [cell[0] for cell in g.obstacleCells]\n",
    "obs_Y = [cell[1] for cell in g.obstacleCells]"
   ]
  },
  {
   "cell_type": "code",
   "execution_count": 27,
   "metadata": {},
   "outputs": [
    {
     "ename": "TypeError",
     "evalue": "cannot unpack non-iterable NoneType object",
     "output_type": "error",
     "traceback": [
      "\u001b[1;31m---------------------------------------------------------------------------\u001b[0m",
      "\u001b[1;31mTypeError\u001b[0m                                 Traceback (most recent call last)",
      "\u001b[1;32m<ipython-input-27-9e3e4988b45e>\u001b[0m in \u001b[0;36m<module>\u001b[1;34m\u001b[0m\n\u001b[0;32m      3\u001b[0m \u001b[0mpath\u001b[0m \u001b[1;33m=\u001b[0m \u001b[1;33m[\u001b[0m\u001b[1;33m]\u001b[0m\u001b[1;33m\u001b[0m\u001b[1;33m\u001b[0m\u001b[0m\n\u001b[0;32m      4\u001b[0m \u001b[0mhastar\u001b[0m \u001b[1;33m=\u001b[0m \u001b[0mHybridAStar\u001b[0m\u001b[1;33m(\u001b[0m\u001b[0mg\u001b[0m\u001b[1;33m,\u001b[0m \u001b[0mv\u001b[0m\u001b[1;33m)\u001b[0m\u001b[1;33m\u001b[0m\u001b[1;33m\u001b[0m\u001b[0m\n\u001b[1;32m----> 5\u001b[1;33m \u001b[0mpath\u001b[0m\u001b[1;33m,\u001b[0m \u001b[0mstates\u001b[0m \u001b[1;33m=\u001b[0m \u001b[0mhastar\u001b[0m\u001b[1;33m.\u001b[0m\u001b[0mrun\u001b[0m\u001b[1;33m(\u001b[0m\u001b[0mstart\u001b[0m\u001b[1;33m,\u001b[0m\u001b[0mend\u001b[0m\u001b[1;33m)\u001b[0m\u001b[1;33m\u001b[0m\u001b[1;33m\u001b[0m\u001b[0m\n\u001b[0m\u001b[0;32m      6\u001b[0m \u001b[1;33m\u001b[0m\u001b[0m\n\u001b[0;32m      7\u001b[0m \u001b[0mpath_X\u001b[0m \u001b[1;33m=\u001b[0m \u001b[1;33m[\u001b[0m\u001b[0mcell\u001b[0m\u001b[1;33m[\u001b[0m\u001b[1;36m0\u001b[0m\u001b[1;33m]\u001b[0m \u001b[1;32mfor\u001b[0m \u001b[0mcell\u001b[0m \u001b[1;32min\u001b[0m \u001b[0mpath\u001b[0m\u001b[1;33m]\u001b[0m\u001b[1;33m\u001b[0m\u001b[1;33m\u001b[0m\u001b[0m\n",
      "\u001b[1;31mTypeError\u001b[0m: cannot unpack non-iterable NoneType object"
     ]
    }
   ],
   "source": [
    "start = VehicleState((29,24),180)\n",
    "end = VehicleState((0,12),270)\n",
    "path = []\n",
    "hastar = HybridAStar(g, v)\n",
    "path, states = hastar.run(start,end)\n",
    "\n",
    "path_X = [cell[0] for cell in path] \n",
    "path_Y = [cell[1] for cell in path]\n",
    "\n",
    "state_X = [state.position[0] for state in states] \n",
    "state_Y = [state.position[1] for state in states]\n",
    "ori = [state.orientation for state in states]"
   ]
  },
  {
   "cell_type": "code",
   "execution_count": null,
   "metadata": {},
   "outputs": [],
   "source": [
    "#PRINTER\n",
    "#colormap\n",
    "cmap = colors.ListedColormap(['white', 'black'])\n",
    "bounds = [0,.5,1]\n",
    "norm = colors.BoundaryNorm(bounds, cmap.N)\n",
    "\n",
    "fig, ax = plt.subplots()\n",
    "#x.imshow(data,extent=[0, rows, 0, cols], cmap=cmap, norm=norm)\n",
    "ax.plot(start.position[0], start.position[1], marker='.', color='green', linestyle='none', MarkerSize=40)\n",
    "ax.plot(end.position[0], end.position[1], marker='.', color='red', linestyle='none', MarkerSize=40)\n",
    "ax.plot(path_X, path_Y, marker='.', color='b', MarkerSize=10)\n",
    "ax.plot(state_X, state_Y, marker='*', color='purple', MarkerSize=10)\n",
    "#draw gridlines\n",
    "ax.grid(which='major', axis='both', linestyle='-', color='k', linewidth=1)\n",
    "ax.set_xticks(np.arange(0, rows, 1));\n",
    "ax.set_yticks(np.arange(0, cols, 1));\n",
    "for index in range(len(states)):\n",
    "    x, y, a, b = state_X[index], state_Y[index], 1, np.rad2deg(ori[index])\n",
    "    x1, y1 = rpoint(x,y,a,b)\n",
    "    plt.arrow(x, y, (x1-x)/2, (y1-y)/2, head_width = .4, width = .1,)\n",
    "    \n",
    "plt.rcParams['figure.figsize'] = [18, 18]\n",
    "plt.show()"
   ]
  },
  {
   "cell_type": "code",
   "execution_count": null,
   "metadata": {
    "scrolled": true
   },
   "outputs": [],
   "source": [
    "#prints turtle output of the Reeds Shepp Algorithm\n",
    "# pathToFollow = []\n",
    "# drawer = Drawer()\n",
    "# # for i in range(10):\n",
    "# #     pathToFollow.append((random.randint(-7,7), random.randint(-7,7), random.randint(0,359)))\n",
    "# #     drawer.setPositionandAngle(pathToFollow[i][:2], pathToFollow[i][2])\n",
    "# #     drawer.drawVectorArrow()\n",
    "    \n",
    "# # rs = ReedsShepp.ReedsShepp()\n",
    "# # drawer.setSpeed(1)\n",
    "# # drawer.turt.pensize(3)\n",
    "# # drawer.turt.pencolor('red')\n",
    "# # for i in range(len(pathToFollow) - 1):\n",
    "# #     optimalPath = rs.run_optimalpath(pathToFollow[i], pathToFollow[i+1])\n",
    "# #     drawer.setPositionandAngle(pathToFollow[i][:2], pathToFollow[i][2])\n",
    "# #     drawer.drawPath(optimalPath)  \n",
    "# drawer.finish()"
   ]
  },
  {
   "cell_type": "code",
   "execution_count": null,
   "metadata": {},
   "outputs": [],
   "source": [
    "#Overall Algorithm\n",
    "#First the car will report any obstacles in its way\n",
    "#if any, add to map w/ appropriate location\n",
    "#then perform a* algorithm with global map\n",
    "#do a check if there's a collision\n",
    "#if so, run machine learning algorithm to change, unless there are no changes to the map\n",
    "#Should only use machine learning algo IF and only IF there are changes to the map\n",
    "#return path to car, use route instructions to move car appropriately"
   ]
  },
  {
   "cell_type": "code",
   "execution_count": null,
   "metadata": {},
   "outputs": [],
   "source": [
    "#ALL MEASUREMENTS IN CM"
   ]
  },
  {
   "cell_type": "code",
   "execution_count": null,
   "metadata": {},
   "outputs": [],
   "source": []
  }
 ],
 "metadata": {
  "kernelspec": {
   "display_name": "Python 3",
   "language": "python",
   "name": "python3"
  },
  "language_info": {
   "codemirror_mode": {
    "name": "ipython",
    "version": 3
   },
   "file_extension": ".py",
   "mimetype": "text/x-python",
   "name": "python",
   "nbconvert_exporter": "python",
   "pygments_lexer": "ipython3",
   "version": "3.8.3"
  }
 },
 "nbformat": 4,
 "nbformat_minor": 4
}
