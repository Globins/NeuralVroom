{
 "cells": [
  {
   "cell_type": "code",
   "execution_count": 1,
   "metadata": {},
   "outputs": [
    {
     "name": "stdout",
     "output_type": "stream",
     "text": [
      "importing Jupyter notebook from AStar.ipynb\n"
     ]
    }
   ],
   "source": [
    "import import_ipynb #Allows you to import ipynb files (TEMPORARY?)\n",
    "from AStar import AStar"
   ]
  },
  {
   "cell_type": "code",
   "execution_count": 2,
   "metadata": {},
   "outputs": [
    {
     "name": "stdout",
     "output_type": "stream",
     "text": [
      "[(0, 0), (1, 1), (2, 2), (3, 3), (4, 4), (5, 5)]\n"
     ]
    }
   ],
   "source": [
    "#Testing AStar\n",
    "\n",
    "maze = [[0, 0, 0, 0, 1, 0],\n",
    "        [0, 0, 0, 0, 1, 0],\n",
    "        [0, 0, 0, 0, 1, 0],\n",
    "        [0, 0, 0, 0, 1, 0],\n",
    "        [0, 0, 0, 0, 1, 0],\n",
    "        [0, 0, 0, 0, 0, 0]]\n",
    "graph = [[0, 1, 0, 0, 0, 0],\n",
    "         [1, 0, 1, 0, 1, 0],\n",
    "         [0, 1, 0, 0, 0, 1],\n",
    "         [0, 0, 0, 0, 1, 0],\n",
    "         [0, 1, 0, 1, 0, 0],\n",
    "         [0, 0, 1, 0, 0, 0]]\n",
    "start = (0, 0)\n",
    "end = (5, 5)\n",
    "pf = AStar(graph, start, end)\n",
    "path = pf.run()\n",
    "print(path)"
   ]
  },
  {
   "cell_type": "code",
   "execution_count": 6,
   "metadata": {},
   "outputs": [],
   "source": []
  },
  {
   "cell_type": "code",
   "execution_count": null,
   "metadata": {},
   "outputs": [],
   "source": [
    "#Testing Hybrid AStar"
   ]
  },
  {
   "cell_type": "code",
   "execution_count": null,
   "metadata": {},
   "outputs": [],
   "source": [
    "#Overall Algorithm\n",
    "#First the car will report any obstacles in its way\n",
    "#if any, add to map w/ appropriate location\n",
    "#then perform a* algorithm with global map\n",
    "#do a check if there's a collision\n",
    "#if so, run machine learning algorithm to change, unless there are no changes to the map\n",
    "#Should only use machine learning algo IF and only IF there are changes to the map\n",
    "#return path to car, use route instructions to move car appropriately"
   ]
  },
  {
   "cell_type": "code",
   "execution_count": null,
   "metadata": {},
   "outputs": [],
   "source": [
    "#To-Do:\n",
    "#figure out how to optimize this for cars (take steering to account)\n",
    "#figure out how to make initial node fat\n",
    "#if there is a better algorithm, since A* is memory intensive, do it"
   ]
  },
  {
   "cell_type": "code",
   "execution_count": null,
   "metadata": {},
   "outputs": [],
   "source": [
    "#Algo notes:\n",
    "#Start/goal node = Tuple (x,y,theta) x and y being the world position of the rear-axis of the car, and\n",
    "#theta being the angle of the car according to the z axis\n",
    "\n",
    "#returns a series of nodes of s0...sg to have an optimal path from s0 to sg, then the trajectory is\n",
    "#smoothed using gradient descent\n",
    "\n",
    "#using A* using the four dimensional node configeration (x, y, theta, forward/backward) with 6 dir.\n",
    "#in mind with a certain distance\n",
    "\n",
    "#distance heuristic\n",
    "\n",
    "\n",
    "\n",
    "#grid notes:\n",
    "#voronei fields\n"
   ]
  },
  {
   "cell_type": "code",
   "execution_count": null,
   "metadata": {},
   "outputs": [],
   "source": [
    "#he generate map to calculate distances from one cell to all cells with all cells\n",
    "#Reeds sheppe used to calculated the heuristic in the A* algo\n",
    "#A* = F(X) = g(x) + h(x)\n",
    "\n",
    "#ndoe i = current\n",
    "#node j = next\n",
    "#g(j) = g(i) + dist(ij)(1+v*voro(i)+p*rev(j))+delta*switch(j)\n",
    "\n",
    "#Dist(ij) = eculidean distance between nodes i and j\n",
    "#rev(j) = direction of motion (0, 1)\n",
    "#   rev discourages backwards travel\n",
    "\n",
    "#voro(j) = value of the voronoi field at node j\n",
    "#  voro pushes pathing away from obstacles\n",
    "\n",
    "#switch(ij) = 1 if i and j directions are diff, 0 otherwise\n",
    "# penalizes switching directions\n",
    "\n",
    "#v, p, and deleta are cosntant penalty factors\n",
    "\n",
    "#page 30 of the paper we're using\n"
   ]
  },
  {
   "cell_type": "code",
   "execution_count": null,
   "metadata": {},
   "outputs": [],
   "source": []
  }
 ],
 "metadata": {
  "kernelspec": {
   "display_name": "Python 3",
   "language": "python",
   "name": "python3"
  },
  "language_info": {
   "codemirror_mode": {
    "name": "ipython",
    "version": 3
   },
   "file_extension": ".py",
   "mimetype": "text/x-python",
   "name": "python",
   "nbconvert_exporter": "python",
   "pygments_lexer": "ipython3",
   "version": "3.8.3"
  }
 },
 "nbformat": 4,
 "nbformat_minor": 4
}
