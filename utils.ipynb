{
 "cells": [
  {
   "cell_type": "code",
   "execution_count": 2,
   "metadata": {},
   "outputs": [],
   "source": [
    "import numpy as np\n",
    "import matplotlib.pyplot as plt\n",
    "import mltools as ml"
   ]
  },
  {
   "cell_type": "code",
   "execution_count": 3,
   "metadata": {},
   "outputs": [],
   "source": [
    "#These functions are general functions are that used in mult. files"
   ]
  },
  {
   "cell_type": "code",
   "execution_count": 4,
   "metadata": {},
   "outputs": [],
   "source": [
    "def cart2pol(x, y):\n",
    "    \"\"\"returns polar coords of point (x, y) in relation to (0,0)\"\"\"\n",
    "    r = np.sqrt(x*x + y*y)\n",
    "    theta = np.arctan2(y, x)\n",
    "    return r, theta"
   ]
  },
  {
   "cell_type": "code",
   "execution_count": 5,
   "metadata": {},
   "outputs": [],
   "source": [
    "def mod2Pi(theta):\n",
    "    \"\"\" returns angle phi = theta%2pi with contraint -pi <= theta < pi\"\"\"\n",
    "    theta = theta % (2*np.pi)\n",
    "    if theta < -np.pi: return theta + 2*np.pi\n",
    "    if theta >= np.pi: return theta - 2*np.pi\n",
    "    return theta"
   ]
  },
  {
   "cell_type": "code",
   "execution_count": 6,
   "metadata": {},
   "outputs": [],
   "source": [
    "def change_of_basis(start:tuple, end:tuple):\n",
    "    \"\"\"translates the end point to be in start's coordinate system with start being (0,0)\n",
    "    start and end are passed in(x, y, orientation)\"\"\"\n",
    "    theta1 = np.deg2rad(start[2])\n",
    "    dx = end[0] - start[0]\n",
    "    dy = end[1] - start[1]\n",
    "    new_x = dx * np.cos(theta1) + dy*np.sin(theta1)\n",
    "    new_y = -dx * np.sin(theta1) + dy*np.cos(theta1)\n",
    "    new_theta = end[2] - start[2]\n",
    "    return new_x, new_y, new_theta\n",
    "    "
   ]
  },
  {
   "cell_type": "code",
   "execution_count": 7,
   "metadata": {},
   "outputs": [],
   "source": [
    "def IsPointInGrid(point:tuple = (-1, -1), gridDimensions:tuple = (-1, -1)):\n",
    "    \"\"\"determines if the point is inside the grid\"\"\"\n",
    "    return (point[0] >= 0 and point[1] >= 0) and (point[0] < gridDimensions[0] and point[1] < gridDimensions[1])"
   ]
  },
  {
   "cell_type": "code",
   "execution_count": 8,
   "metadata": {},
   "outputs": [],
   "source": [
    "def GetNeighbors(cell:tuple, gridDimensions:tuple):\n",
    "    \"\"\"Gets all surrounding neighbors\"\"\"\n",
    "    x = cell[0]\n",
    "    y = cell[1]\n",
    "    neighbors = []\n",
    "    if(not IsPointInGrid(cell, gridDimensions)):\n",
    "        return neighbors\n",
    "    if(x-1 >= 0):\n",
    "        neighbors.append((x-1,y))\n",
    "        if(y-1 >= 0): neighbors.append((x-1,y-1))\n",
    "        if(y+1 < gridDimensions[1]): neighbors.append((x-1,y+1))\n",
    "        pass\n",
    "    if(x+1 < gridDimensions[0]):\n",
    "        neighbors.append((x+1,y))\n",
    "        if(y-1 >= 0): neighbors.append((x+1,y-1))\n",
    "        if(y+1 < gridDimensions[1]): neighbors.append((x+1,y+1))\n",
    "        pass\n",
    "    if(y-1 >= 0): neighbors.append((x,y-1))\n",
    "    if(y+1 < gridDimensions[1]): neighbors.append((x,y+1))\n",
    "    return neighbors"
   ]
  },
  {
   "cell_type": "code",
   "execution_count": 9,
   "metadata": {},
   "outputs": [],
   "source": [
    "def rasterizeline(start:tuple, end:tuple, gridDimensions:tuple):\n",
    "    \"\"\"Returns a list of cells from start to end\"\"\"\n",
    "    x0 = start[0]\n",
    "    y0 = start[1]\n",
    "    x1 = end[0]\n",
    "    y1 = end[1]\n",
    "    line = []\n",
    "    isSteep = abs(y1-y0) > abs(x1-x0)\n",
    "    if(isSteep):\n",
    "        temp = x0\n",
    "        x0 = y0\n",
    "        y0 = temp\n",
    "\n",
    "        temp = x1\n",
    "        x1 = y1\n",
    "        y1 = temp\n",
    "    if(x0 > x1):\n",
    "        temp = x0\n",
    "        x0 = x1\n",
    "        x1 = temp\n",
    "\n",
    "        temp = y0\n",
    "        y0 = y1\n",
    "        y1 = temp\n",
    "    dx = x1 - x0\n",
    "    dy = abs(y1-y0)\n",
    "    err = dx /2\n",
    "    ystep = 1 if y0 < y1 else -1\n",
    "    y = y0\n",
    "    for x in range(x0,x1+1):\n",
    "        cell = (x,y)\n",
    "        if(isSteep):\n",
    "            cell = (y,x)\n",
    "        if(IsPointInGrid(cell, gridDimensions)):\n",
    "            line.append(cell)\n",
    "        err -= dy\n",
    "        if(err < 0):\n",
    "            y += ystep\n",
    "            err += dx\n",
    "    return line"
   ]
  },
  {
   "cell_type": "code",
   "execution_count": 10,
   "metadata": {},
   "outputs": [],
   "source": [
    "def rotate(xy, radians):\n",
    "    \"\"\"dot product of position and orientation\"\"\"\n",
    "    x, y = xy\n",
    "    c, s = np.cos(radians), np.sin(radians)\n",
    "    j = np.matrix([[c, -s], [s, c]])\n",
    "    m = np.dot(j, [x, y])\n",
    "    \n",
    "    finalx = float(m.T[0])\n",
    "    finaly = float(m.T[1])\n",
    "    return finalx, finaly"
   ]
  },
  {
   "cell_type": "code",
   "execution_count": 1,
   "metadata": {},
   "outputs": [],
   "source": [
    "def contToCell(self):\n",
    "    \"\"\"Converts the continuous value into a discrete-friendly value\"\"\"\n",
    "    pass"
   ]
  },
  {
   "cell_type": "code",
   "execution_count": null,
   "metadata": {},
   "outputs": [],
   "source": []
  }
 ],
 "metadata": {
  "kernelspec": {
   "display_name": "Python 3",
   "language": "python",
   "name": "python3"
  },
  "language_info": {
   "codemirror_mode": {
    "name": "ipython",
    "version": 3
   },
   "file_extension": ".py",
   "mimetype": "text/x-python",
   "name": "python",
   "nbconvert_exporter": "python",
   "pygments_lexer": "ipython3",
   "version": "3.8.3"
  }
 },
 "nbformat": 4,
 "nbformat_minor": 4
}
