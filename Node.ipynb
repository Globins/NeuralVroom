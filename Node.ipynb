{
 "cells": [
  {
   "cell_type": "code",
   "execution_count": 1,
   "metadata": {},
   "outputs": [],
   "source": [
    "import numpy as np"
   ]
  },
  {
   "cell_type": "code",
   "execution_count": 2,
   "metadata": {},
   "outputs": [],
   "source": [
    "#This will be the node class that the grid will be made up of\n",
    "class Node:\n",
    "    def __init__(self, parent=None, position=None,forwardRadian=0.0,isReversing=False):\n",
    "        self.position = position\n",
    "        self.parent = parent\n",
    "        self.g = 0 #distance to start node\n",
    "        self.h = 0 #distance to goal node\n",
    "        self.f = 0 #total cost\n",
    "        \n",
    "        #Car information\n",
    "        \n",
    "        #Position of car's rear axle\n",
    "        self.rearWheelPosition = (0,0,0)\n",
    "        #position of car's front axle\n",
    "        self.frontWheelPosition = (0,0,0)\n",
    "        #position when reversing\n",
    "        self.reverseWheelPosition = (0,0,0)\n",
    "        #where the car is facing\n",
    "        self.forwardRadian = forwardRadian\n",
    "        #if the car is reversing\n",
    "        self.isReversing = isReversing\n",
    "        #trailer is facing\n",
    "        self.trailerForwardRadian = 0.0\n",
    "        \n",
    "    def __eq__(self, other):\n",
    "        return self.position == other.position\n",
    "    \n",
    "    def __repr__(self):\n",
    "        return f\"{self.position} - g: {self.g} h: {self.h} f: {self.f}\"\n",
    "    \n",
    "    def __lt__(self, other):\n",
    "        return self.f < other.f\n",
    "    \n",
    "    def __gt__(self, other):\n",
    "        return self.f > other.f\n",
    "    \n",
    "    def forwardRadianInDegrees(self):\n",
    "        np.degrees(self.forwardRadian)\n",
    "        \n",
    "    def trailerForwardRadianInDgrees(self):\n",
    "        np.degrees(self.trailerForwardRadian)\n",
    "        \n",
    "    "
   ]
  }
 ],
 "metadata": {
  "kernelspec": {
   "display_name": "Python 3",
   "language": "python",
   "name": "python3"
  },
  "language_info": {
   "codemirror_mode": {
    "name": "ipython",
    "version": 3
   },
   "file_extension": ".py",
   "mimetype": "text/x-python",
   "name": "python",
   "nbconvert_exporter": "python",
   "pygments_lexer": "ipython3",
   "version": "3.8.3"
  }
 },
 "nbformat": 4,
 "nbformat_minor": 4
}
