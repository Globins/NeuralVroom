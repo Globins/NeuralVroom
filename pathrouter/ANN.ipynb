{
 "cells": [
  {
   "cell_type": "code",
   "execution_count": 4,
   "metadata": {},
   "outputs": [],
   "source": [
    "import numpy as np\n",
    "import tensorflow as tf\n",
    "import matplotlib.pyplot as plt\n",
    "from sys import argv\n",
    "from keras.models import Sequential\n",
    "#EVOLUTIONARY ANN\n"
   ]
  },
  {
   "cell_type": "code",
   "execution_count": 2,
   "metadata": {},
   "outputs": [],
   "source": [
    "#Win condition, reach the end of the goal\n",
    "#rewards determined by dijkstra\n",
    "#lose condition, hitting any other car or wall"
   ]
  },
  {
   "cell_type": "code",
   "execution_count": 9,
   "metadata": {},
   "outputs": [],
   "source": [
    "#inputs: Distance from the obstacles, 360 degree angle, probably 24 input\n",
    "#these will be either 0 or 1\n",
    "#the ouput for each car will be steer gear and turnradius\n",
    "#it will check (with a map of car locations and safety funct) if the cars collided w/ each other or a obst\n",
    "#if it does, then it will begin again \n",
    "#output: Controls"
   ]
  },
  {
   "cell_type": "code",
   "execution_count": 2,
   "metadata": {},
   "outputs": [],
   "source": [
    "# Distance from obstacle at certain detection radius (cm = 40)"
   ]
  },
  {
   "cell_type": "code",
   "execution_count": 3,
   "metadata": {},
   "outputs": [],
   "source": [
    "# convol layers\n",
    "# keras "
   ]
  },
  {
   "cell_type": "code",
   "execution_count": 5,
   "metadata": {},
   "outputs": [],
   "source": [
    "#Output: steer, gear, turnradius, speed?"
   ]
  },
  {
   "cell_type": "code",
   "execution_count": 6,
   "metadata": {},
   "outputs": [],
   "source": [
    "learning_rate = .1\n",
    "num_steps = 1000\n",
    "batch_size = 128\n",
    "display_step = 100\n",
    "#feed forward"
   ]
  },
  {
   "cell_type": "code",
   "execution_count": 5,
   "metadata": {},
   "outputs": [],
   "source": [
    "n_input = 24\n",
    "n_hidden1 = 12\n",
    "n_hidden2 = 12\n",
    "n_hidden3 = 12\n",
    "n_output = 3\n",
    "#Feed 12 numbers to nn, it generates steer, gear and time (speed) and uses that to generate \n",
    "#the next step using the vehicle function below\n",
    "#it does this until it reaches the goal OR it crashes into a vehicle OR wall\n",
    "#the evaluation function will be determined by dijkstra's distance FROM the goal, AND whether it crashed or not\n",
    "#will return path quality equivalent of HAS\n",
    "#Need a function to detect nearby objects\n",
    "#need a function to read the grid\n",
    "#need a function to evolve the NN"
   ]
  },
  {
   "cell_type": "code",
   "execution_count": 12,
   "metadata": {},
   "outputs": [],
   "source": [
    "def neural_network_model(data):\n",
    "    hidden_1_layer = {'weights':tf.Variable(tf.random_normal([24, n_hidden1])),\n",
    "                      'biases':tf.Variable(tf.random_normal([n_hidden1]))}\n",
    "\n",
    "    hidden_2_layer = {'weights':tf.Variable(tf.random_normal([n_hidden1, n_hidden2])),\n",
    "                      'biases':tf.Variable(tf.random_normal([n_hidden2]))}\n",
    "\n",
    "    hidden_3_layer = {'weights':tf.Variable(tf.random_normal([n_hidden2, n_hidden3])),\n",
    "                      'biases':tf.Variable(tf.random_normal([n_hidden3]))}\n",
    "\n",
    "    output_layer = {'weights':tf.Variable(tf.random_normal([n_hidden3, n_output])),\n",
    "                    'biases':tf.Variable(tf.random_normal([n_output]))}\n",
    "    \n",
    "    l1 = tf.add(tf.matmul(data,hidden_1_layer['weights']), hidden_1_layer['biases'])\n",
    "    l1 = tf.nn.relu(l1)\n",
    "\n",
    "    l2 = tf.add(tf.matmul(l1,hidden_2_layer['weights']), hidden_2_layer['biases'])\n",
    "    l2 = tf.nn.relu(l2)\n",
    "\n",
    "    l3 = tf.add(tf.matmul(l2,hidden_3_layer['weights']), hidden_3_layer['biases'])\n",
    "    l3 = tf.nn.relu(l3)\n",
    "\n",
    "    output = tf.matmul(l3,output_layer['weights']) + output_layer['biases']\n",
    "\n",
    "    return output"
   ]
  },
  {
   "cell_type": "code",
   "execution_count": null,
   "metadata": {},
   "outputs": [],
   "source": []
  },
  {
   "cell_type": "code",
   "execution_count": 1,
   "metadata": {},
   "outputs": [
    {
     "ename": "NameError",
     "evalue": "name 'VehicleState' is not defined",
     "output_type": "error",
     "traceback": [
      "\u001b[1;31m---------------------------------------------------------------------------\u001b[0m",
      "\u001b[1;31mNameError\u001b[0m                                 Traceback (most recent call last)",
      "\u001b[1;32m<ipython-input-1-04439bca4558>\u001b[0m in \u001b[0;36m<module>\u001b[1;34m\u001b[0m\n\u001b[1;32m----> 1\u001b[1;33m \u001b[1;32mdef\u001b[0m \u001b[0mgetNextState\u001b[0m\u001b[1;33m(\u001b[0m\u001b[0mself\u001b[0m\u001b[1;33m,\u001b[0m \u001b[0mcurrent\u001b[0m\u001b[1;33m:\u001b[0m\u001b[0mVehicleState\u001b[0m\u001b[1;33m,\u001b[0m \u001b[0msteer\u001b[0m\u001b[1;33m:\u001b[0m\u001b[0mSteer\u001b[0m\u001b[1;33m,\u001b[0m \u001b[0mgear\u001b[0m\u001b[1;33m:\u001b[0m\u001b[0mGear\u001b[0m\u001b[1;33m,\u001b[0m \u001b[0mdt\u001b[0m\u001b[1;33m:\u001b[0m\u001b[0mfloat\u001b[0m\u001b[1;33m)\u001b[0m\u001b[1;33m:\u001b[0m\u001b[1;33m\u001b[0m\u001b[1;33m\u001b[0m\u001b[0m\n\u001b[0m\u001b[0;32m      2\u001b[0m         \u001b[1;34m\"\"\"returns next state based on current vehicle state\"\"\"\u001b[0m\u001b[1;33m\u001b[0m\u001b[1;33m\u001b[0m\u001b[0m\n\u001b[0;32m      3\u001b[0m         \u001b[0mlength\u001b[0m \u001b[1;33m=\u001b[0m \u001b[0mself\u001b[0m\u001b[1;33m.\u001b[0m\u001b[0mvelocity\u001b[0m\u001b[1;33m*\u001b[0m\u001b[0mdt\u001b[0m\u001b[1;33m\u001b[0m\u001b[1;33m\u001b[0m\u001b[0m\n\u001b[0;32m      4\u001b[0m         \u001b[0mx\u001b[0m \u001b[1;33m=\u001b[0m \u001b[0my\u001b[0m \u001b[1;33m=\u001b[0m \u001b[0mangle\u001b[0m \u001b[1;33m=\u001b[0m \u001b[1;36m0\u001b[0m\u001b[1;33m\u001b[0m\u001b[1;33m\u001b[0m\u001b[0m\n\u001b[0;32m      5\u001b[0m         \u001b[1;32mif\u001b[0m\u001b[1;33m(\u001b[0m\u001b[0msteer\u001b[0m \u001b[1;33m==\u001b[0m \u001b[0mSteer\u001b[0m\u001b[1;33m.\u001b[0m\u001b[0mStraight\u001b[0m\u001b[1;33m)\u001b[0m\u001b[1;33m:\u001b[0m\u001b[1;33m\u001b[0m\u001b[1;33m\u001b[0m\u001b[0m\n",
      "\u001b[1;31mNameError\u001b[0m: name 'VehicleState' is not defined"
     ]
    }
   ],
   "source": [
    "def getNextState(self, current:VehicleState, steer:Steer, gear:Gear, dt:float):\n",
    "        \"\"\"returns next state based on current vehicle state\"\"\"\n",
    "        length = self.velocity*dt\n",
    "        x = y = angle = 0\n",
    "        if(steer == Steer.Straight):\n",
    "            x = length\n",
    "        else:\n",
    "            angle = length / self.turnRadius\n",
    "            sinangle = np.sin(angle/2)\n",
    "            l = 2 * sinangle * self.turnRadius\n",
    "            x = l * np.cos(self.turnRadius)\n",
    "            y = l * sinangle\n",
    "        if(steer == Steer.Right):\n",
    "            y = -y\n",
    "            angle = -angle\n",
    "        if(gear == Gear.Backward):\n",
    "            x = -x\n",
    "            angle = -angle\n",
    "        correctPos = rotate((x,y), current.orientation)\n",
    "        return VehicleState(tuple(np.add(current.position, correctPos)), current.orientation + angle, gear), length"
   ]
  },
  {
   "cell_type": "code",
   "execution_count": 3,
   "metadata": {},
   "outputs": [],
   "source": [
    "def populate(self, count):\n",
    "    pop = []\n",
    "    for _ in range(0, count):\n",
    "        #create nn and car at random location\n",
    "        #pop.append nn\n",
    "        pass\n",
    "    return pop"
   ]
  },
  {
   "cell_type": "code",
   "execution_count": null,
   "metadata": {},
   "outputs": [],
   "source": [
    "def breed(self, mother, father):\n",
    "    children = []\n",
    "    for _ in range(2):\n",
    "        child = {}\n",
    "        for param in "
   ]
  }
 ],
 "metadata": {
  "kernelspec": {
   "display_name": "Python 3",
   "language": "python",
   "name": "python3"
  },
  "language_info": {
   "codemirror_mode": {
    "name": "ipython",
    "version": 3
   },
   "file_extension": ".py",
   "mimetype": "text/x-python",
   "name": "python",
   "nbconvert_exporter": "python",
   "pygments_lexer": "ipython3",
   "version": "3.7.9"
  }
 },
 "nbformat": 4,
 "nbformat_minor": 4
}
