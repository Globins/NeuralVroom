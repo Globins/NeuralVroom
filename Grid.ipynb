{
 "cells": [
  {
   "cell_type": "code",
   "execution_count": 54,
   "metadata": {},
   "outputs": [],
   "source": [
    "import import_ipynb #Allows you to import ipynb files (TEMPORARY?)\n",
    "from VehicleState import VehicleState as VS"
   ]
  },
  {
   "cell_type": "code",
   "execution_count": 69,
   "metadata": {},
   "outputs": [],
   "source": [
    "#This will be the general map that all functions will be using in their algorithms\n",
    "#will prolly preprocess the predetermined map for the pathfinding algorithm\n",
    "class Grid:\n",
    "    def __init__(self, width:int = 0, height:int = 0, grid=None):\n",
    "        self.width = width\n",
    "        self.height = height\n",
    "        self.occupiedCells = [[0 for i in range(width)] for j in range(height)]\n",
    "        \n",
    "    def GenerateMap(self):\n",
    "        pass\n",
    "    def _AddObjectToGrid(self, object=None):\n",
    "        pass\n",
    "    def AddPoint(self, point:tuple = (-1, -1)):\n",
    "        if(self.IsPointInGrid(point)):\n",
    "            self.occupiedCells[point[0]][point[1]] = 1\n",
    "    def RemoveObstacle(self, point:tuple):\n",
    "        if(self.IsPointInGrid(point)):\n",
    "            self.occupiedCells[point[0]][point[1]] = 0\n",
    "    \"\"\"Gets all surrounding neighbors\"\"\"\n",
    "    def GetNeighbors(self, cell:tuple):\n",
    "        x = cell[0]\n",
    "        y = cell[1]\n",
    "        neighbors = []\n",
    "        if(not self.IsPointInGrid(cell)):\n",
    "            return neighbors\n",
    "        if(x-1 >= 0):\n",
    "            neighbors.append((x-1,y))\n",
    "            if(y-1 >= 0): neighbors.append((x-1,y-1))\n",
    "            if(y+1 < self.height): neighbors.append((x-1,y+1))\n",
    "            pass\n",
    "        if(x+1 < self.width):\n",
    "            neighbors.append((x+1,y))\n",
    "            if(y-1 >= 0): neighbors.append((x+1,y-1))\n",
    "            if(y+1 < self.height): neighbors.append((x+1,y+1))\n",
    "            pass\n",
    "        if(y-1 >= 0): neighbors.append((x,y-1))\n",
    "        if(y+1 < self.height): neighbors.append((x,y+1))\n",
    "        return neighbors\n",
    "        \n",
    "    \"\"\"determines if the point is inside the grid\"\"\"\n",
    "    def IsPointInGrid(self, point:tuple = (-1, -1)):\n",
    "        return (point[0] >= 0 and point[1] >= 0) and (point[0] < self.width and point[1] < self.height)\n",
    "    \n",
    "    \"\"\"Returns a list of cells from start to end\"\"\"\n",
    "    def _rasterizeline(self, start:tuple, end:tuple):\n",
    "        x0 = start[0]\n",
    "        y0 = start[1]\n",
    "        x1 = end[0]\n",
    "        y1 = end[1]\n",
    "        path = []\n",
    "        isSteep = abs(y1-y0) > abs(x1-x0)\n",
    "        if(isSteep):\n",
    "            temp = x0\n",
    "            x0 = y0\n",
    "            y0 = temp\n",
    "            \n",
    "            temp = x1\n",
    "            x1 = y1\n",
    "            y1 = temp\n",
    "        if(x0 > x1):\n",
    "            temp = x0\n",
    "            x0 = x1\n",
    "            x1 = temp\n",
    "\n",
    "            temp = y0\n",
    "            y0 = y1\n",
    "            y1 = temp\n",
    "        dx = x1 - x0\n",
    "        dy = abs(y1-y0)\n",
    "        err = dx /2\n",
    "        ystep = 1 if y0 < y1 else -1\n",
    "        y = y0\n",
    "        for x in range(x0,x1+1):\n",
    "            cell = (x,y)\n",
    "            if(steep):\n",
    "                cell = (y,x)\n",
    "            if(self.IsPointInGrid(cell)):\n",
    "                line.append(cell)\n",
    "            err -= dy\n",
    "            if(err < 0):\n",
    "                y += ystep\n",
    "                err += dx\n",
    "        return line\n",
    "            "
   ]
  },
  {
   "cell_type": "code",
   "execution_count": 70,
   "metadata": {},
   "outputs": [],
   "source": [
    "g = Grid(5,5)"
   ]
  },
  {
   "cell_type": "code",
   "execution_count": 71,
   "metadata": {},
   "outputs": [],
   "source": [
    "g.AddPoint((1,1))"
   ]
  },
  {
   "cell_type": "code",
   "execution_count": 72,
   "metadata": {},
   "outputs": [
    {
     "ename": "AttributeError",
     "evalue": "'Grid' object has no attribute 'occupiedPoints'",
     "output_type": "error",
     "traceback": [
      "\u001b[1;31m---------------------------------------------------------------------------\u001b[0m",
      "\u001b[1;31mAttributeError\u001b[0m                            Traceback (most recent call last)",
      "\u001b[1;32m<ipython-input-72-a6a005425883>\u001b[0m in \u001b[0;36m<module>\u001b[1;34m\u001b[0m\n\u001b[1;32m----> 1\u001b[1;33m \u001b[0mg\u001b[0m\u001b[1;33m.\u001b[0m\u001b[0moccupiedPoints\u001b[0m\u001b[1;33m\u001b[0m\u001b[1;33m\u001b[0m\u001b[0m\n\u001b[0m",
      "\u001b[1;31mAttributeError\u001b[0m: 'Grid' object has no attribute 'occupiedPoints'"
     ]
    }
   ],
   "source": [
    "g.occupiedPoints"
   ]
  },
  {
   "cell_type": "code",
   "execution_count": null,
   "metadata": {},
   "outputs": [],
   "source": []
  }
 ],
 "metadata": {
  "kernelspec": {
   "display_name": "Python 3",
   "language": "python",
   "name": "python3"
  },
  "language_info": {
   "codemirror_mode": {
    "name": "ipython",
    "version": 3
   },
   "file_extension": ".py",
   "mimetype": "text/x-python",
   "name": "python",
   "nbconvert_exporter": "python",
   "pygments_lexer": "ipython3",
   "version": "3.8.3"
  }
 },
 "nbformat": 4,
 "nbformat_minor": 4
}
