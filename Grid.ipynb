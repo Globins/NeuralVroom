{
 "cells": [
  {
   "cell_type": "code",
   "execution_count": 1,
   "metadata": {},
   "outputs": [
    {
     "name": "stdout",
     "output_type": "stream",
     "text": [
      "importing Jupyter notebook from VehicleState.ipynb\n"
     ]
    }
   ],
   "source": [
    "import import_ipynb #Allows you to import ipynb files (TEMPORARY?)\n",
    "from VehicleState import VehicleState as VS"
   ]
  },
  {
   "cell_type": "code",
   "execution_count": 2,
   "metadata": {},
   "outputs": [],
   "source": [
    "class Grid:\n",
    "    def __init__(self, width:int = 0, height:int = 0, grid=None):\n",
    "        self.width = width\n",
    "        self.height = height\n",
    "        self.occupiedCells = [[0 for i in range(width)] for j in range(height)]\n",
    "        self.obstacleCells = []\n",
    "    \"\"\"Adds an obstacle to the grid\"\"\"\n",
    "    def AddObstacle(self, point:tuple = (-1, -1)):\n",
    "        if(self.IsPointInGrid(point)):\n",
    "            self.occupiedCells[point[0]][point[1]] = 1\n",
    "            self.obstacleCells.append(point)\n",
    "    \"\"\"removes an obstacle from the grid\"\"\"\n",
    "    def RemoveObstacle(self, point:tuple):\n",
    "        if(self.IsPointInGrid(point)):\n",
    "            self.occupiedCells[point[0]][point[1]] = 0\n",
    "            self.obstacleCells.remove(point)\n",
    "    \"\"\"Gets all surrounding neighbors\"\"\"\n",
    "    def GetNeighbors(self, cell:tuple):\n",
    "        x = cell[0]\n",
    "        y = cell[1]\n",
    "        neighbors = []\n",
    "        if(not self.IsPointInGrid(cell)):\n",
    "            return neighbors\n",
    "        if(x-1 >= 0):\n",
    "            neighbors.append((x-1,y))\n",
    "            if(y-1 >= 0): neighbors.append((x-1,y-1))\n",
    "            if(y+1 < self.height): neighbors.append((x-1,y+1))\n",
    "            pass\n",
    "        if(x+1 < self.width):\n",
    "            neighbors.append((x+1,y))\n",
    "            if(y-1 >= 0): neighbors.append((x+1,y-1))\n",
    "            if(y+1 < self.height): neighbors.append((x+1,y+1))\n",
    "            pass\n",
    "        if(y-1 >= 0): neighbors.append((x,y-1))\n",
    "        if(y+1 < self.height): neighbors.append((x,y+1))\n",
    "        return neighbors\n",
    "        \n",
    "    \"\"\"determines if the point is inside the grid\"\"\"\n",
    "    def IsPointInGrid(self, point:tuple = (-1, -1)):\n",
    "        return (point[0] >= 0 and point[1] >= 0) and (point[0] < self.width and point[1] < self.height)\n",
    "    \n",
    "    \"\"\"Returns a list of cells from start to end\"\"\"\n",
    "    def rasterizeline(self, start:tuple, end:tuple):\n",
    "        x0 = start[0]\n",
    "        y0 = start[1]\n",
    "        x1 = end[0]\n",
    "        y1 = end[1]\n",
    "        line = []\n",
    "        isSteep = abs(y1-y0) > abs(x1-x0)\n",
    "        if(isSteep):\n",
    "            temp = x0\n",
    "            x0 = y0\n",
    "            y0 = temp\n",
    "            \n",
    "            temp = x1\n",
    "            x1 = y1\n",
    "            y1 = temp\n",
    "        if(x0 > x1):\n",
    "            temp = x0\n",
    "            x0 = x1\n",
    "            x1 = temp\n",
    "\n",
    "            temp = y0\n",
    "            y0 = y1\n",
    "            y1 = temp\n",
    "        dx = x1 - x0\n",
    "        dy = abs(y1-y0)\n",
    "        err = dx /2\n",
    "        ystep = 1 if y0 < y1 else -1\n",
    "        y = y0\n",
    "        for x in range(x0,x1+1):\n",
    "            cell = (x,y)\n",
    "            if(isSteep):\n",
    "                cell = (y,x)\n",
    "            if(self.IsPointInGrid(cell)):\n",
    "                line.append(cell)\n",
    "            err -= dy\n",
    "            if(err < 0):\n",
    "                y += ystep\n",
    "                err += dx\n",
    "        return line\n",
    "            "
   ]
  },
  {
   "cell_type": "code",
   "execution_count": null,
   "metadata": {},
   "outputs": [],
   "source": []
  }
 ],
 "metadata": {
  "kernelspec": {
   "display_name": "Python 3",
   "language": "python",
   "name": "python3"
  },
  "language_info": {
   "codemirror_mode": {
    "name": "ipython",
    "version": 3
   },
   "file_extension": ".py",
   "mimetype": "text/x-python",
   "name": "python",
   "nbconvert_exporter": "python",
   "pygments_lexer": "ipython3",
   "version": "3.8.3"
  }
 },
 "nbformat": 4,
 "nbformat_minor": 4
}
