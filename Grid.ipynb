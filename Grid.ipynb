{
 "cells": [
  {
   "cell_type": "code",
   "execution_count": 3,
   "metadata": {},
   "outputs": [],
   "source": [
    "import import_ipynb #Allows you to import ipynb files\n",
    "from vehicle import VehicleState as VS\n",
    "from GVD import GVD\n",
    "from utils import *"
   ]
  },
  {
   "cell_type": "code",
   "execution_count": 6,
   "metadata": {},
   "outputs": [],
   "source": [
    "#initialize the grid with a specified size for a grid, does not need to be uniform\n",
    "#set up obstacles using the addobstacle and removeobstacle\n",
    "#check car safety boundaries using IsSafe\n",
    "class Grid:\n",
    "    \"\"\"Grid interface that the main program will be using to update and control the processing map\"\"\"\n",
    "    def __init__(self, width:int = 0, height:int = 0, grid=None):\n",
    "        self.width = width\n",
    "        self.height = height\n",
    "        self.GVD = GVD(width, height)\n",
    "        self.occupiedCells = [[0 for i in range(width)] for j in range(height)]\n",
    "        self.obstacleCells = []\n",
    "        \n",
    "    def AddObstacle(self, point:tuple = (-1, -1)):\n",
    "        \"\"\"Adds an obstacle to the grid\"\"\"\n",
    "        if(IsPointInGrid(point, (self.width, self.height)) and not point in self.obstacleCells):\n",
    "            self.occupiedCells[point[0]][point[1]] = 1\n",
    "            self.obstacleCells.append(point)\n",
    "            self.GVD.SetCell(point)\n",
    "            self.GVD.Update()\n",
    "            \n",
    "    def RemoveObstacle(self, point:tuple):\n",
    "        \"\"\"removes an obstacle from the grid\"\"\"\n",
    "        if(IsPointInGrid(point, (self.width, self.height)) and point in self.obstacleCells):\n",
    "            self.occupiedCells[point[0]][point[1]] = 0\n",
    "            self.obstacleCells.remove(point)\n",
    "            self.GVD.UnSetCell(point)\n",
    "            self.GVD.Update()\n",
    "            \n",
    "    def RefreshMap(self):\n",
    "        \"\"\"Updates the map manually\"\"\"\n",
    "        self.GVD.Update()\n",
    "        \n",
    "    \n",
    "    def returnDistanceMap(self):\n",
    "        \"\"\"returns a double array of int distances from obstacles\"\"\"\n",
    "        distMap = self.GVD.distMap\n",
    "        dist = []\n",
    "        for x in range(self.width):\n",
    "            row = []\n",
    "            for y in range(self.height):\n",
    "                row.append(distMap[x][y].dist)\n",
    "            dist.append(row)\n",
    "        return dist\n",
    "    \n",
    "    def returnVoroDistanceMap(self):\n",
    "        \"\"\"returns a double array of int distances from the voronoi lines\"\"\"\n",
    "        vDistMap = self.GVD.voroDistMap\n",
    "        vDist = []\n",
    "        for x in range(self.width):\n",
    "            row = []\n",
    "            for y in range(self.height):\n",
    "                row.append(vDistMap[x][y].dist)\n",
    "            vDist.append(row)\n",
    "        return vDist\n",
    "    def returnVoroMap(self):\n",
    "        \"\"\"returns a double array of bools of whether it is in a voronoi border or not\"\"\"\n",
    "        voroMap = self.GVD.voro\n",
    "        voro = []\n",
    "        for x in range(self.width):\n",
    "            row = []\n",
    "            for y in range(self.height):\n",
    "                row.append(voroMap[x][y])\n",
    "            voro.append(row)\n",
    "        return voro\n",
    "    \n",
    "    def returnCostMap(self):\n",
    "        pass\n",
    "    \n",
    "    def IsSafe(self, safetyFactor):\n",
    "        return True"
   ]
  },
  {
   "cell_type": "code",
   "execution_count": null,
   "metadata": {},
   "outputs": [],
   "source": []
  },
  {
   "cell_type": "code",
   "execution_count": null,
   "metadata": {},
   "outputs": [],
   "source": []
  }
 ],
 "metadata": {
  "kernelspec": {
   "display_name": "Python 3",
   "language": "python",
   "name": "python3"
  },
  "language_info": {
   "codemirror_mode": {
    "name": "ipython",
    "version": 3
   },
   "file_extension": ".py",
   "mimetype": "text/x-python",
   "name": "python",
   "nbconvert_exporter": "python",
   "pygments_lexer": "ipython3",
   "version": "3.8.3"
  }
 },
 "nbformat": 4,
 "nbformat_minor": 4
}
