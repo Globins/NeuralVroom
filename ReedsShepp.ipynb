{
 "cells": [
  {
   "cell_type": "code",
   "execution_count": 25,
   "metadata": {},
   "outputs": [],
   "source": [
    "import matplotlib.pyplot as plt\n",
    "import math\n",
    "from enum import Enum\n",
    "from numpy import arange, mod\n",
    "#import VirtualCar"
   ]
  },
  {
   "cell_type": "code",
   "execution_count": 19,
   "metadata": {},
   "outputs": [],
   "source": [
    "class Paths(Enum):\n",
    "#        LfSfLf, // Reeds-Shepp 8.1: CSC, same turn\n",
    "#         LbSbLb,\n",
    "#         RfSfRf,\n",
    "#         RbSbRb,\n",
    "\n",
    "#         LfSfRf, // Reeds-Shepp 8.2: CSC, different turn\n",
    "#         LbSbRb,\n",
    "#         RfSfLf,\n",
    "#         RbSbLb,\n",
    "\n",
    "#         LfRbLf, // Reeds-Shepp 8.3: C|C|C\n",
    "#         LbRfLb,\n",
    "#         RfLbRf,\n",
    "#         RbLfRb,\n",
    "\n",
    "#         LfRbLb, // Reeds-Shepp 8.4: C|CC\n",
    "#         LbRfLf,\n",
    "#         RfLbRb,\n",
    "#         RbLfRf,\n",
    "\n",
    "#         LfRfLb, // Reeds-Shepp 8.4: CC|C\n",
    "#         LbRbLf,\n",
    "#         RfLfRb,\n",
    "#         RbLbRf,\n",
    "\n",
    "#         LfRufLubRb, // Reeds-Shepp 8.7: CCu|CuC \n",
    "#         LbRubLufRf,\n",
    "#         RfLufRubLb,\n",
    "#         RbLubRufLf,\n",
    "\n",
    "#         LfRubLubRf, // Reeds-Shepp 8.8: C|CuCu|C\n",
    "#         LbRufLufRb,\n",
    "#         RfLubRubLf,\n",
    "#         RbLufRufLb,\n",
    "\n",
    "#         LfRbpi2SbLb, // Reeds-Shepp 8.9: C|C(pi/2)SC, same turn\n",
    "#         LbRfpi2SfLf,\n",
    "#         RfLbpi2SbRb,\n",
    "#         RbLfpi2SfRf,\n",
    "\n",
    "#         LfRbpi2SbRb, // Reeds-Shepp 8.10: C|C(pi/2)SC, different turn\n",
    "#         LbRfpi2SfRf,\n",
    "#         RfLbpi2SbLb,\n",
    "#         RbLfpi2SfLf,\n",
    "\n",
    "#         LfSfRfpi2Lb, // Reeds-Shepp 8.9 (reversed): CSC(pi/2)|C, same turn\n",
    "#         LbSbRbpi2Lf,\n",
    "#         RfSfLfpi2Rb,\n",
    "#         RbSbLbpi2Rf,\n",
    "\n",
    "#         LfSfLfpi2Rb, // Reeds-Shepp 8.10 (reversed): CSC(pi/2)|C, different turn\n",
    "#         LbSbLbpi2Rf,\n",
    "#         RfSfRfpi2Lb,\n",
    "#         RbSbRbpi2Lf,\n",
    "\n",
    "#         LfRbpi2SbLbpi2Rf, // Reeds-Shepp 8.11: C|C(pi/2)SC(pi/2)|C\n",
    "#         LbRfpi2SfLfpi2Rb,\n",
    "#         RfLbpi2SbRbpi2Lf,\n",
    "#         RbLfpi2SfRfpi2Lb\n",
    "    pass"
   ]
  },
  {
   "cell_type": "code",
   "execution_count": 13,
   "metadata": {},
   "outputs": [],
   "source": [
    "#Single Steering and motion over some length\n",
    "class ReedsSheppAction:\n",
    "    #class variables\n",
    "    def __init__(self, steer, gear, length):\n",
    "        self.Steer = steer\n",
    "        self.Gear = gear\n",
    "        self.Length = length"
   ]
  },
  {
   "cell_type": "code",
   "execution_count": 14,
   "metadata": {},
   "outputs": [],
   "source": [
    "#Set of actions that are connected\n",
    "class ReedsSheppActionSet:\n",
    "    def __init__(self, grid, start, end):\n",
    "        self._grid = grid\n",
    "        self._start = start\n",
    "        self._end = end"
   ]
  },
  {
   "cell_type": "code",
   "execution_count": 20,
   "metadata": {},
   "outputs": [],
   "source": [
    "#Class used to convert actionset into a collection of path points\n",
    "class ReedsSheppDriver:\n",
    "    def __init__(self, grid, start, end):\n",
    "        self._grid = grid\n",
    "        self._start = start\n",
    "        self._end = end"
   ]
  },
  {
   "cell_type": "code",
   "execution_count": 10,
   "metadata": {},
   "outputs": [],
   "source": [
    "class ReedsShepp:\n",
    "    #class variables\n",
    "    def __init__(self, grid, start, end):\n",
    "        self._grid = grid\n",
    "        self._start = start\n",
    "        self._end = end\n",
    "    def run(self, start, end):\n",
    "        pass"
   ]
  },
  {
   "cell_type": "code",
   "execution_count": null,
   "metadata": {},
   "outputs": [],
   "source": []
  }
 ],
 "metadata": {
  "kernelspec": {
   "display_name": "Python 3",
   "language": "python",
   "name": "python3"
  },
  "language_info": {
   "codemirror_mode": {
    "name": "ipython",
    "version": 3
   },
   "file_extension": ".py",
   "mimetype": "text/x-python",
   "name": "python",
   "nbconvert_exporter": "python",
   "pygments_lexer": "ipython3",
   "version": "3.8.3"
  }
 },
 "nbformat": 4,
 "nbformat_minor": 4
}
