{
 "cells": [
  {
   "cell_type": "code",
   "execution_count": 17,
   "metadata": {},
   "outputs": [],
   "source": [
    "from enum import Enum"
   ]
  },
  {
   "cell_type": "code",
   "execution_count": 18,
   "metadata": {},
   "outputs": [],
   "source": [
    "\"\"\"Gear is a enum that returns a bool of whether the car is backwards or forwards\"\"\"\n",
    "class Gear(Enum):\n",
    "    Forward = 1\n",
    "    Backward = 2"
   ]
  },
  {
   "cell_type": "code",
   "execution_count": 19,
   "metadata": {},
   "outputs": [],
   "source": [
    "\"\"\"Steer is an enum that returns a bool whether the car is going foward, left or right\"\"\"\n",
    "class Steer(Enum):\n",
    "    Straight = 1\n",
    "    Left = 2\n",
    "    Right = 3"
   ]
  },
  {
   "cell_type": "code",
   "execution_count": 20,
   "metadata": {},
   "outputs": [],
   "source": [
    "\"\"\"Vehicle state of the simulated vehicle, keeps track of the vehicles current position,\n",
    "    orientation (in radians), angle of the wheels, and gear. Also supports deep copying\"\"\"\n",
    "class VehicleState:\n",
    "    def __init__(self, size:tuple=(0,0), position:tuple = (0, 0), orientation:float = 0.0, wheelAngle:float = 0.0, \n",
    "                 gear:Gear=Gear.Forward):\n",
    "        self.width = size[0]\n",
    "        self.length = size[1]\n",
    "        \n",
    "        self.position = position\n",
    "        self.orientation = orientation\n",
    "        self.wheelAngle = wheelAngle\n",
    "        self.gear = gear\n",
    "\n",
    "    def __eq__(self, other):\n",
    "        return self.position == other.position and self.orientation == other.orientation\n",
    "    def __ne__(self, other):\n",
    "        return self.positon != other.position or self.orientation != other.orientation\n",
    "    def getXPosition(self):\n",
    "        return self.position[0]\n",
    "    def getYPosition(self):\n",
    "        return self.position[1]\n",
    "    def copy(self, vs=None):\n",
    "        if(vs != None):\n",
    "            self.position = vs.position\n",
    "            self.orientation = vs.orientation\n",
    "            self.wheelAngle = vs.wheelAngle\n",
    "            self.gear = gear"
   ]
  },
  {
   "cell_type": "code",
   "execution_count": null,
   "metadata": {},
   "outputs": [],
   "source": []
  }
 ],
 "metadata": {
  "kernelspec": {
   "display_name": "Python 3",
   "language": "python",
   "name": "python3"
  },
  "language_info": {
   "codemirror_mode": {
    "name": "ipython",
    "version": 3
   },
   "file_extension": ".py",
   "mimetype": "text/x-python",
   "name": "python",
   "nbconvert_exporter": "python",
   "pygments_lexer": "ipython3",
   "version": "3.8.3"
  }
 },
 "nbformat": 4,
 "nbformat_minor": 4
}
