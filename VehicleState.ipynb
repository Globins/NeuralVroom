{
 "cells": [
  {
   "cell_type": "code",
   "execution_count": 1,
   "metadata": {},
   "outputs": [],
   "source": [
    "from enum import Enum\n",
    "#Replace gear and steer with functions to check"
   ]
  },
  {
   "cell_type": "code",
   "execution_count": 2,
   "metadata": {},
   "outputs": [],
   "source": [
    "\"\"\"Gear is a enum that returns a bool of whether the car is backwards or forwards\"\"\"\n",
    "class Gear(Enum):\n",
    "    forward = False\n",
    "    backward = False"
   ]
  },
  {
   "cell_type": "code",
   "execution_count": 3,
   "metadata": {},
   "outputs": [],
   "source": [
    "\"\"\"Steer is an enum that returns a bool whether the car is going foward, left or right\"\"\"\n",
    "class Steer(Enum):\n",
    "    left = False\n",
    "    straight = False\n",
    "    right = False"
   ]
  },
  {
   "cell_type": "code",
   "execution_count": 4,
   "metadata": {},
   "outputs": [],
   "source": [
    "\"\"\"Vehicle state of the simulated vehicle, keeps track of the vehicles current position,\n",
    "    orientation, angle, and gear. Also supports deep copying\"\"\"\n",
    "class VehicleState:\n",
    "    def __init__(self, position:tuple = (0, 0), orientation:float = 0.0, wheelAngle:float = 0.0, \n",
    "                 gear:Gear=Gear.forward):\n",
    "        self.position = position\n",
    "        self.orientation = orientation\n",
    "        self.wheelAngle = wheelAngle\n",
    "        self.gear = gear\n",
    "\n",
    "    def __eq__(self, other):\n",
    "        return self.position == other.position and self.orientation == other.orientation\n",
    "    def __ne__(self, other):\n",
    "        return self.positon != other.position or self.orientation != other.orientation\n",
    "    def getXPosition(self):\n",
    "        return self.position[0]\n",
    "    def getYPosition(self):\n",
    "        return self.position[1]\n",
    "    def copy(self, vs=None):\n",
    "        if(vs != None):\n",
    "            self.position = vs.position\n",
    "            self.orientation = vs.orientation\n",
    "            self.wheelAngle = vs.wheelAngle"
   ]
  },
  {
   "cell_type": "code",
   "execution_count": null,
   "metadata": {},
   "outputs": [],
   "source": []
  }
 ],
 "metadata": {
  "kernelspec": {
   "display_name": "Python 3",
   "language": "python",
   "name": "python3"
  },
  "language_info": {
   "codemirror_mode": {
    "name": "ipython",
    "version": 3
   },
   "file_extension": ".py",
   "mimetype": "text/x-python",
   "name": "python",
   "nbconvert_exporter": "python",
   "pygments_lexer": "ipython3",
   "version": "3.8.3"
  }
 },
 "nbformat": 4,
 "nbformat_minor": 4
}
