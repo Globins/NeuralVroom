{
 "cells": [
  {
   "cell_type": "code",
   "execution_count": 18,
   "metadata": {},
   "outputs": [],
   "source": [
    "import import_ipynb #Allows you to import ipynb files\n",
    "import numpy as np\n",
    "from vehicle import *\n",
    "from Grid import Grid\n",
    "from utils import *"
   ]
  },
  {
   "cell_type": "code",
   "execution_count": 23,
   "metadata": {},
   "outputs": [],
   "source": [
    "class PathSmoother:\n",
    "    \"\"\"Will take a path list and use gradient descent to smooth it out\"\"\"\n",
    "    #smoothing based on http://ai.stanford.edu/~ddolgov/papers/dolgov_gpp_stair08.pdf\n",
    "    def __init__(self):\n",
    "        #Used in gradient descent\n",
    "        self._tolerance = 0.001\n",
    "        self._maxIterations = 2000\n",
    "        self._alpha = 0.2\n",
    "        \n",
    "        #Weights\n",
    "        self._wPath = 0.0\n",
    "        self._wSmooth = 4\n",
    "        \n",
    "        self._collisionWeight = 0.002\n",
    "        self._collisionDmax = 5.0\n",
    "        \n",
    "        self._voronoiWeight = 0.2\n",
    "        self._voronoiDmax = 20.0\n",
    "        \n",
    "        self._curvatureWeight = 4.0\n",
    "        \n",
    "    #path == states\n",
    "    def smooth(self, path, grid):\n",
    "        voro = grid.returnVoroDistanceMap()\n",
    "        obst = grid.returnDistanceMap()\n",
    "        if(len(path) > 5):\n",
    "            return path\n",
    "        currentPath = []\n",
    "        \n",
    "        for i,segment in enumerate(path):\n",
    "            currentPath[i] = segment\n",
    "        \n",
    "        count = 0\n",
    "        change = self._tolerance\n",
    "        while(count > self._maxIterations or change >= tolerance):\n",
    "            for i in range(2, len(path)-2):\n",
    "                if (currentPath[i - 2].Gear != currentPath[i - 1].Gear): continue\n",
    "                if (currentPath[i - 1].Gear != currentPath[i].Gear): continue\n",
    "                if (currentPath[i].Gear != currentPath[i + 1].Gear): continue\n",
    "                if (currentPath[i + 1].Gear != currentPath[i + 2].Gear): continue\n",
    "                currentPosition = currentPath[i].Position\n",
    "                correction = (0,0)\n",
    "                if(IsPointInGrid(currentPosition, (grid.width, grid.height))):\n",
    "                    x = int(np.floor(currentPosition[0]))\n",
    "                    y = int(np.floor(currentPosition[1]))\n",
    "                    \n",
    "                    closestObstPosFromCurrent = tuple(np.subtract(currentPosition, obst[x, y]))\n",
    "                    obstDistFromCurrent = closestObstPosFromCurrent[0]**2 + closestObstPosFromCurrent[1]**2\n",
    "                    if(obstDistFromCurrent < self._collisionDmax):\n",
    "                         correction = tuple(np.subtract(correction, \n",
    "                                                       ))\n",
    "                    if(obstDistFromCurrent < self._voronoiDmax and self._voronoiWeight > 0):\n",
    "                        pass\n",
    "                    \n",
    "                    #smoothing\n",
    "                    \n",
    "                    #Curvature\n",
    "            count += 1\n",
    "            \n",
    "        smoothPath = []\n",
    "        return smoothPath"
   ]
  },
  {
   "cell_type": "code",
   "execution_count": null,
   "metadata": {},
   "outputs": [],
   "source": []
  }
 ],
 "metadata": {
  "kernelspec": {
   "display_name": "Python 3",
   "language": "python",
   "name": "python3"
  },
  "language_info": {
   "codemirror_mode": {
    "name": "ipython",
    "version": 3
   },
   "file_extension": ".py",
   "mimetype": "text/x-python",
   "name": "python",
   "nbconvert_exporter": "python",
   "pygments_lexer": "ipython3",
   "version": "3.8.3"
  }
 },
 "nbformat": 4,
 "nbformat_minor": 4
}
