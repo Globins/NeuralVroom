{
 "cells": [
  {
   "cell_type": "code",
   "execution_count": 8,
   "metadata": {},
   "outputs": [],
   "source": [
    "import import_ipynb #Allows you to import ipynb files (TEMPORARY?)\n",
    "import Grid"
   ]
  },
  {
   "cell_type": "code",
   "execution_count": 9,
   "metadata": {},
   "outputs": [],
   "source": [
    "#Generates and outptus a usable Generalized Voronoi Diagram Based on [Paper I've found]. Used to calculate\n",
    "#The best center path for the pathfinding algorithm to create smoother turns\n",
    "class GVD:\n",
    "    def __init__(self, grid:Grid=None):\n",
    "        self._unknown = (-1, 1) \n",
    "        self.grid = grid\n",
    "    \"\"\"returns the nearest obstacle from the cell\"\"\"\n",
    "    def GetNearestObstacle(self, cell=None, cellPosition: tuple = (-1,-1)):\n",
    "        if(cellPosition != _unknown):\n",
    "            pass #return cell\n",
    "        #return obstacle list at cell\n",
    "    \"\"\"returns the nearest edge from the cell\"\"\"\n",
    "    def GetNearestVoronoiEdge(self, cell=None, cellPosition: tuple = (-1,-1)):\n",
    "        pass\n",
    "    def GetObstacleDistanceFromCell(self, Cell=None):\n",
    "        pass\n",
    "    def GetVoronoiDistanceFromCell(self, cell=None):\n",
    "        pass\n",
    "    def GetPathCost(self, cell=None):\n",
    "        pass\n",
    "    def SetObstacle(self, cell=None):\n",
    "        pass\n",
    "    def UnsetObstacle(self, cell=None):\n",
    "        pass\n",
    "    def Update(self):\n",
    "        print(\"hoi\")\n",
    "    def updateDistanceMap(self):\n",
    "        pass\n",
    "    def setVoro(self, cell):\n",
    "        pass\n",
    "    def unsetVoro(self, cell):\n",
    "        pass\n",
    "    def updateVoroMap(self):\n",
    "        pass\n",
    "    "
   ]
  },
  {
   "cell_type": "code",
   "execution_count": null,
   "metadata": {},
   "outputs": [],
   "source": []
  }
 ],
 "metadata": {
  "kernelspec": {
   "display_name": "Python 3",
   "language": "python",
   "name": "python3"
  },
  "language_info": {
   "codemirror_mode": {
    "name": "ipython",
    "version": 3
   },
   "file_extension": ".py",
   "mimetype": "text/x-python",
   "name": "python",
   "nbconvert_exporter": "python",
   "pygments_lexer": "ipython3",
   "version": "3.8.3"
  }
 },
 "nbformat": 4,
 "nbformat_minor": 4
}
