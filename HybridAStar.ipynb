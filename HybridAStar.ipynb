{
 "cells": [
  {
   "cell_type": "code",
   "execution_count": 1,
   "metadata": {},
   "outputs": [
    {
     "name": "stdout",
     "output_type": "stream",
     "text": [
      "importing Jupyter notebook from Node.ipynb\n"
     ]
    }
   ],
   "source": [
    "import import_ipynb #Allows you to import ipynb files (TEMPORARY?)\n",
    "import numpy as np\n",
    "from queue import PriorityQueue\n",
    "from Node import Node"
   ]
  },
  {
   "cell_type": "code",
   "execution_count": 2,
   "metadata": {},
   "outputs": [],
   "source": [
    "#This will implement the basic A* Algorithm\n",
    "class HybridAStar:\n",
    "    #class variables\n",
    "    def __init__(self, grid, start, end):\n",
    "        self.grid = grid\n",
    "        self.start = start\n",
    "        self.end = end\n",
    "        \n",
    "    #gets all neighbors at current node\n",
    "    def GetNeighborsAtPosition(self, current_node):\n",
    "        neighbors = []\n",
    "        for new_position in [(0, -1), (0, 1), (-1, 0), (1, 0), (-1, -1), (-1, 1), (1, -1), (1, 1)]:\n",
    "            node_position = (current_node.position[0] + new_position[0], current_node.position[1] + new_position[1])\n",
    "            #out of bounds check\n",
    "            if node_position[0] > (len(self.grid) - 1) or node_position[0] < 0 or node_position[1] > (len(self.grid[len(self.grid) - 1]) - 1) or node_position[1] < 0:\n",
    "                continue\n",
    "            #obstacle check\n",
    "            if self.grid[node_position[0]][node_position[1]] != 0:\n",
    "                continue\n",
    "            new_node = Node(current_node, node_position)\n",
    "            neighbors.append(new_node)\n",
    "        return neighbors\n",
    "    \n",
    "    #Generates the path\n",
    "    def GeneratePath(self):\n",
    "        start_node = Node(None, self.start)\n",
    "        end_node = Node(None, self.end)\n",
    "        open_list = PriorityQueue()\n",
    "        closed_list = []\n",
    "        open_list.put(start_node)\n",
    "        \n",
    "        while open_list.qsize() > 0:\n",
    "            current_node = open_list.get()\n",
    "            closed_list.append(current_node)\n",
    "            \n",
    "            if(current_node == end_node):\n",
    "                path = []\n",
    "                current = current_node\n",
    "                while current is not None:\n",
    "                    path.append(current.position)\n",
    "                    current = current.parent\n",
    "                return path[::-1]\n",
    "            \n",
    "            #Get all open paths O(8*n) there will always be at most 8 neighbors, and at most will check n-size, its 8*n, O(n)\n",
    "            neighbors = self.GetNeighborsAtPosition(current_node)\n",
    "            open_neighbors = neighbors\n",
    "            for index, neighbor in enumerate(neighbors):\n",
    "                for closed in closed_list:\n",
    "                    if neighbor == closed:\n",
    "                        open_neighbors.pop(index)\n",
    "                        \n",
    "            #calculate cost of each path and add to queue\n",
    "            for neighbor in open_neighbors:\n",
    "                neighbor.g = current_node.g + 1\n",
    "                neighbor.h = ((neighbor.position[0] - end_node.position[0]) ** 2) + ((neighbor.position[1] - end_node.position[1]) ** 2)\n",
    "                neighbor.f = neighbor.g + neighbor.h\n",
    "                \n",
    "                open_list.put(neighbor)         "
   ]
  },
  {
   "cell_type": "code",
   "execution_count": 3,
   "metadata": {},
   "outputs": [],
   "source": [
    "#Overall Algorithm\n",
    "#First the car will report any obstacles in its way\n",
    "#if any, add to map w/ appropriate location\n",
    "#then perform a* algorithm with global map\n",
    "#do a check if there's a collision\n",
    "#if so, run machine learning algorithm to change, unless there are no changes to the map\n",
    "#Should only use machine learning algo IF and only IF there are changes to the map\n",
    "#return path to car, use route instructions to move car appropriately"
   ]
  },
  {
   "cell_type": "code",
   "execution_count": 4,
   "metadata": {},
   "outputs": [],
   "source": [
    "#To-Do:\n",
    "#figure out how to optimize this for cars (take steering to account)\n",
    "#figure out how to make initial node fat\n",
    "#if there is a better algorithm, since A* is memory intensive, do it"
   ]
  },
  {
   "cell_type": "code",
   "execution_count": null,
   "metadata": {},
   "outputs": [],
   "source": []
  }
 ],
 "metadata": {
  "kernelspec": {
   "display_name": "Python 3",
   "language": "python",
   "name": "python3"
  },
  "language_info": {
   "codemirror_mode": {
    "name": "ipython",
    "version": 3
   },
   "file_extension": ".py",
   "mimetype": "text/x-python",
   "name": "python",
   "nbconvert_exporter": "python",
   "pygments_lexer": "ipython3",
   "version": "3.8.3"
  }
 },
 "nbformat": 4,
 "nbformat_minor": 4
}
