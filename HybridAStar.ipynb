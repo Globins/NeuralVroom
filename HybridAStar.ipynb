{
 "cells": [
  {
   "cell_type": "code",
   "execution_count": 1,
   "metadata": {},
   "outputs": [
    {
     "name": "stdout",
     "output_type": "stream",
     "text": [
      "importing Jupyter notebook from reedsshepp.ipynb\n",
      "importing Jupyter notebook from vehicle.ipynb\n",
      "importing Jupyter notebook from utils.ipynb\n",
      "importing Jupyter notebook from Grid.ipynb\n",
      "importing Jupyter notebook from GVD.ipynb\n"
     ]
    },
    {
     "data": {
      "text/html": [
       "<style>pre { white-space: pre !important; }</style>"
      ],
      "text/plain": [
       "<IPython.core.display.HTML object>"
      ]
     },
     "metadata": {},
     "output_type": "display_data"
    }
   ],
   "source": [
    "import import_ipynb #Allows you to import ipynb files\n",
    "from queue import PriorityQueue\n",
    "from dataclasses import dataclass\n",
    "\n",
    "from reedsshepp import *\n",
    "from vehicle import *\n",
    "from Grid import Grid\n",
    "from utils import *\n",
    "\n",
    "from IPython.core.display import HTML\n",
    "display(HTML(\"<style>pre { white-space: pre !important; }</style>\"))\n",
    "np.set_printoptions(threshold=np.inf)"
   ]
  },
  {
   "cell_type": "code",
   "execution_count": 2,
   "metadata": {},
   "outputs": [],
   "source": [
    "@dataclass\n",
    "class Cell:\n",
    "    \"\"\"The cell is the discretized position that the vehicleState falls into\"\"\"\n",
    "    col: int = -1\n",
    "    row: int = -1\n",
    "    ori: float = 0.0\n",
    "    rev: float = 0.0\n",
    "    def reset(self):\n",
    "        self.col = -1\n",
    "        self.row = -1\n",
    "        self.ori = 0\n",
    "        self.rev = 0\n",
    "    def __eq__(self, other):\n",
    "        return self.col == other.col and self.row == other.row and self.ori == other.ori"
   ]
  },
  {
   "cell_type": "code",
   "execution_count": 3,
   "metadata": {},
   "outputs": [],
   "source": [
    "#Node class that the A* will be referencing to check and compare costs\n",
    "class HybridAStarNode:\n",
    "    \n",
    "    def __init__(self, parent=None, cell:Cell=None, vehicleState:VehicleState=None, rsAction:ReedsSheppAction=None):\n",
    "        self.cell = cell\n",
    "        self.vehicleState = vehicleState #Even though cell and vehicle state store the same thing, cell is discrete and vehiclestate is nondiscrete\n",
    "        self.reedsSheppAction = rsAction\n",
    "        self.parent = parent\n",
    "        self.g = 0 #distance to start node\n",
    "        self.h = 0 #distance to goal node\n",
    "        \n",
    "        self.rsindex = -1\n",
    "    def FCost(self):\n",
    "        return self.g + self.h\n",
    "    \n",
    "    def __eq__(self, other):\n",
    "        return self.cell == other.cell\n",
    "    \n",
    "    def __lt__(self, other):\n",
    "        return self.FCost() < other.FCost()\n",
    "    \n",
    "    def __gt__(self, other):\n",
    "        return self.FCost() > other.FCost()\n",
    "    def __repr__(self):\n",
    "        return 'Point(x=%s, y=%s, ori=%s, rev=%s)' % (self.cell.col, self.cell.row, np.rad2deg(self.cell.ori), self.cell.rev)"
   ]
  },
  {
   "cell_type": "code",
   "execution_count": 4,
   "metadata": {},
   "outputs": [],
   "source": [
    "#This will implement the basic A* Algorithm\n",
    "class HybridAStar:\n",
    "    #class variables\n",
    "    def __init__(self, grid:Grid, vehicle:Vehicle):\n",
    "        self._grid = grid\n",
    "        self._vehicle = vehicle\n",
    "    \n",
    "    def ReedsSheppPath(self, vehicleState, goal):\n",
    "        pass\n",
    "    \n",
    "    #Generates the Path\n",
    "    def GeneratePath(self, current):\n",
    "        pass\n",
    "    \n",
    "    #Calculates distance heuristic\n",
    "    def CalculateDistance(self, current, destination):\n",
    "        return np.sqrt(((current.vehicleState.position[0] - destination.vehicleState.position[0]) ** 2 + (current.vehicleState.position[1] - destination.vehicleState.position[1]) ** 2))\n",
    "    \n",
    "    #gets all neighbors at current node\n",
    "    def GetNextNodes(self, current_state:VehicleState, gear):\n",
    "        nodes = []\n",
    "        positions = []\n",
    "        for steer in self._vehicle.steers:\n",
    "            newVehicleState, length = self._vehicle.getNextState(current_state, steer, gear, 1)\n",
    "            #self._grid.IsSafe(newVehicleState, 1.5)\n",
    "            positions.append((newVehicleState.position, newVehicleState.orientation))\n",
    "            if(IsPointInGrid(newVehicleState.position, (self._grid.width, self._grid.height))):\n",
    "                nodes.append(HybridAStarNode(None, None, newVehicleState, ReedsSheppAction(steer, gear, length)))\n",
    "        #check reeds shepp path\n",
    "        #add to child if its cheap af\n",
    "        print(positions)\n",
    "        return nodes\n",
    "    \n",
    "    def statetoCell(self, state:VehicleState):\n",
    "        x = np.floor(state.position[0])\n",
    "        y = np.floor(state.position[1])\n",
    "        theta = mod2Pi(state.orientation)\n",
    "        rev = 1 if state.gear==Gear.Backward else 0\n",
    "        return Cell(x, y, theta, rev)\n",
    "    \n",
    "    def run(self, start:VehicleState, end:VehicleState):\n",
    "        start_node = HybridAStarNode(None, self.statetoCell(start), start, ReedsSheppAction(Steer.Straight, Gear.Forward, 0))\n",
    "        end_node = HybridAStarNode(None, self.statetoCell(end), end)\n",
    "        \n",
    "        open_list = PriorityQueue()\n",
    "        closed_list = []\n",
    "        open_list.put(start_node)\n",
    "        voro = self._grid.returnVoroDistanceMap()\n",
    "        \n",
    "        while open_list.qsize():\n",
    "            current_node = open_list.get()\n",
    "            closed_list.append(current_node)\n",
    "            if(current_node == end_node):\n",
    "                return self.GeneratePath(current_node)\n",
    "            \n",
    "            for gear in self._vehicle.gears:\n",
    "                nextNodes = self.GetNextNodes(current_node.vehicleState, gear)\n",
    "                for nextNode in nextNodes:\n",
    "                    nextNode.g = current_node.g + 1 #path cost\n",
    "                    nextNode.h = self.CalculateDistance(nextNode, end_node) #hueristic\n",
    "                    nextNode.parent = current_node\n",
    "                    nextNode.cell = self.statetoCell(nextNode.vehicleState)\n",
    "                    if(nextNode in open_list.queue): continue\n",
    "                    open_list.put(nextNode)   \n",
    "\n"
   ]
  },
  {
   "cell_type": "code",
   "execution_count": 5,
   "metadata": {},
   "outputs": [],
   "source": [
    "g = Grid(31,31)\n",
    "g.AddObstacle((0,0))\n",
    "g.AddObstacle((30,30))\n",
    "g.AddObstacle((15,15))\n",
    "g.AddObstacle((0,30))\n",
    "g.AddObstacle((30,0))\n",
    "g.AddObstacle((15,0))\n",
    "g.AddObstacle((0,15))\n",
    "g.AddObstacle((30,15))\n",
    "g.AddObstacle((15,30))\n",
    "v = Vehicle((1,1))"
   ]
  },
  {
   "cell_type": "code",
   "execution_count": 9,
   "metadata": {},
   "outputs": [
    {
     "name": "stdout",
     "output_type": "stream",
     "text": [
      "[((1.5, 10.5), 0.0), ((1.209996709154892, 11.08834148813814), 1.3839404706095828), ((1.209996709154892, 9.91165851186186), -1.3839404706095828)]\n",
      "[((-0.5, 10.5), 0.0), ((-0.20999670915489188, 11.08834148813814), -1.3839404706095828), ((-0.20999670915489188, 9.91165851186186), 1.3839404706095828)]\n",
      "[((2.5, 10.5), 0.0), ((2.209996709154892, 11.08834148813814), 1.3839404706095828), ((2.209996709154892, 9.91165851186186), -1.3839404706095828)]\n",
      "[((0.5, 10.5), 0.0), ((0.7900032908451081, 11.08834148813814), -1.3839404706095828), ((0.7900032908451081, 9.91165851186186), 1.3839404706095828)]\n",
      "[((3.5, 10.5), 0.0), ((3.209996709154892, 11.08834148813814), 1.3839404706095828), ((3.209996709154892, 9.91165851186186), -1.3839404706095828)]\n",
      "[((1.5, 10.5), 0.0), ((1.790003290845108, 11.08834148813814), -1.3839404706095828), ((1.790003290845108, 9.91165851186186), 1.3839404706095828)]\n",
      "[((4.5, 10.5), 0.0), ((4.2099967091548915, 11.08834148813814), 1.3839404706095828), ((4.2099967091548915, 9.91165851186186), -1.3839404706095828)]\n",
      "[((2.5, 10.5), 0.0), ((2.790003290845108, 11.08834148813814), -1.3839404706095828), ((2.790003290845108, 9.91165851186186), 1.3839404706095828)]\n",
      "[((5.5, 10.5), 0.0), ((5.2099967091548915, 11.08834148813814), 1.3839404706095828), ((5.2099967091548915, 9.91165851186186), -1.3839404706095828)]\n",
      "[((3.5, 10.5), 0.0), ((3.790003290845108, 11.08834148813814), -1.3839404706095828), ((3.790003290845108, 9.91165851186186), 1.3839404706095828)]\n",
      "[((6.5, 10.5), 0.0), ((6.2099967091548915, 11.08834148813814), 1.3839404706095828), ((6.2099967091548915, 9.91165851186186), -1.3839404706095828)]\n",
      "[((4.5, 10.5), 0.0), ((4.7900032908451085, 11.08834148813814), -1.3839404706095828), ((4.7900032908451085, 9.91165851186186), 1.3839404706095828)]\n",
      "[((7.5, 10.5), 0.0), ((7.2099967091548915, 11.08834148813814), 1.3839404706095828), ((7.2099967091548915, 9.91165851186186), -1.3839404706095828)]\n",
      "[((5.5, 10.5), 0.0), ((5.7900032908451085, 11.08834148813814), -1.3839404706095828), ((5.7900032908451085, 9.91165851186186), 1.3839404706095828)]\n",
      "[((8.5, 10.5), 0.0), ((8.209996709154892, 11.08834148813814), 1.3839404706095828), ((8.209996709154892, 9.91165851186186), -1.3839404706095828)]\n",
      "[((6.5, 10.5), 0.0), ((6.7900032908451085, 11.08834148813814), -1.3839404706095828), ((6.7900032908451085, 9.91165851186186), 1.3839404706095828)]\n",
      "[((9.5, 10.5), 0.0), ((9.209996709154892, 11.08834148813814), 1.3839404706095828), ((9.209996709154892, 9.91165851186186), -1.3839404706095828)]\n",
      "[((7.5, 10.5), 0.0), ((7.7900032908451085, 11.08834148813814), -1.3839404706095828), ((7.7900032908451085, 9.91165851186186), 1.3839404706095828)]\n",
      "[((10.5, 10.5), 0.0), ((10.209996709154892, 11.08834148813814), 1.3839404706095828), ((10.209996709154892, 9.91165851186186), -1.3839404706095828)]\n",
      "[((8.5, 10.5), 0.0), ((8.790003290845108, 11.08834148813814), -1.3839404706095828), ((8.790003290845108, 9.91165851186186), 1.3839404706095828)]\n",
      "[((11.5, 10.5), 0.0), ((11.209996709154892, 11.08834148813814), 1.3839404706095828), ((11.209996709154892, 9.91165851186186), -1.3839404706095828)]\n",
      "[((9.5, 10.5), 0.0), ((9.790003290845108, 11.08834148813814), -1.3839404706095828), ((9.790003290845108, 9.91165851186186), 1.3839404706095828)]\n",
      "[((12.5, 10.5), 0.0), ((12.209996709154892, 11.08834148813814), 1.3839404706095828), ((12.209996709154892, 9.91165851186186), -1.3839404706095828)]\n",
      "[((10.5, 10.5), 0.0), ((10.790003290845108, 11.08834148813814), -1.3839404706095828), ((10.790003290845108, 9.91165851186186), 1.3839404706095828)]\n",
      "[((13.5, 10.5), 0.0), ((13.209996709154892, 11.08834148813814), 1.3839404706095828), ((13.209996709154892, 9.91165851186186), -1.3839404706095828)]\n",
      "[((11.5, 10.5), 0.0), ((11.790003290845108, 11.08834148813814), -1.3839404706095828), ((11.790003290845108, 9.91165851186186), 1.3839404706095828)]\n",
      "[((14.5, 10.5), 0.0), ((14.209996709154892, 11.08834148813814), 1.3839404706095828), ((14.209996709154892, 9.91165851186186), -1.3839404706095828)]\n",
      "[((12.5, 10.5), 0.0), ((12.790003290845108, 11.08834148813814), -1.3839404706095828), ((12.790003290845108, 9.91165851186186), 1.3839404706095828)]\n",
      "[((15.5, 10.5), 0.0), ((15.209996709154892, 11.08834148813814), 1.3839404706095828), ((15.209996709154892, 9.91165851186186), -1.3839404706095828)]\n",
      "[((13.5, 10.5), 0.0), ((13.790003290845108, 11.08834148813814), -1.3839404706095828), ((13.790003290845108, 9.91165851186186), 1.3839404706095828)]\n",
      "[((16.5, 10.5), 0.0), ((16.209996709154893, 11.08834148813814), 1.3839404706095828), ((16.209996709154893, 9.91165851186186), -1.3839404706095828)]\n",
      "[((14.5, 10.5), 0.0), ((14.790003290845108, 11.08834148813814), -1.3839404706095828), ((14.790003290845108, 9.91165851186186), 1.3839404706095828)]\n",
      "[((17.5, 10.5), 0.0), ((17.209996709154893, 11.08834148813814), 1.3839404706095828), ((17.209996709154893, 9.91165851186186), -1.3839404706095828)]\n",
      "[((15.5, 10.5), 0.0), ((15.790003290845108, 11.08834148813814), -1.3839404706095828), ((15.790003290845108, 9.91165851186186), 1.3839404706095828)]\n",
      "[((18.5, 10.5), 0.0), ((18.209996709154893, 11.08834148813814), 1.3839404706095828), ((18.209996709154893, 9.91165851186186), -1.3839404706095828)]\n",
      "[((16.5, 10.5), 0.0), ((16.790003290845107, 11.08834148813814), -1.3839404706095828), ((16.790003290845107, 9.91165851186186), 1.3839404706095828)]\n",
      "[((19.5, 10.5), 0.0), ((19.209996709154893, 11.08834148813814), 1.3839404706095828), ((19.209996709154893, 9.91165851186186), -1.3839404706095828)]\n",
      "[((17.5, 10.5), 0.0), ((17.790003290845107, 11.08834148813814), -1.3839404706095828), ((17.790003290845107, 9.91165851186186), 1.3839404706095828)]\n",
      "[((20.5, 10.5), 0.0), ((20.209996709154893, 11.08834148813814), 1.3839404706095828), ((20.209996709154893, 9.91165851186186), -1.3839404706095828)]\n",
      "[((18.5, 10.5), 0.0), ((18.790003290845107, 11.08834148813814), -1.3839404706095828), ((18.790003290845107, 9.91165851186186), 1.3839404706095828)]\n",
      "[((21.5, 10.5), 0.0), ((21.209996709154893, 11.08834148813814), 1.3839404706095828), ((21.209996709154893, 9.91165851186186), -1.3839404706095828)]\n",
      "[((19.5, 10.5), 0.0), ((19.790003290845107, 11.08834148813814), -1.3839404706095828), ((19.790003290845107, 9.91165851186186), 1.3839404706095828)]\n",
      "[((22.5, 10.5), 0.0), ((22.209996709154893, 11.08834148813814), 1.3839404706095828), ((22.209996709154893, 9.91165851186186), -1.3839404706095828)]\n",
      "[((20.5, 10.5), 0.0), ((20.790003290845107, 11.08834148813814), -1.3839404706095828), ((20.790003290845107, 9.91165851186186), 1.3839404706095828)]\n"
     ]
    }
   ],
   "source": [
    "hastar = HybridAStar(g, v)\n",
    "vs1 = VehicleState((.5,10.5))\n",
    "vs2 = VehicleState((22.5,10.5))\n",
    "path = hastar.run(vs1, vs2)"
   ]
  },
  {
   "cell_type": "code",
   "execution_count": null,
   "metadata": {},
   "outputs": [],
   "source": []
  },
  {
   "cell_type": "code",
   "execution_count": null,
   "metadata": {},
   "outputs": [],
   "source": []
  }
 ],
 "metadata": {
  "kernelspec": {
   "display_name": "Python 3",
   "language": "python",
   "name": "python3"
  },
  "language_info": {
   "codemirror_mode": {
    "name": "ipython",
    "version": 3
   },
   "file_extension": ".py",
   "mimetype": "text/x-python",
   "name": "python",
   "nbconvert_exporter": "python",
   "pygments_lexer": "ipython3",
   "version": "3.8.3"
  }
 },
 "nbformat": 4,
 "nbformat_minor": 4
}
