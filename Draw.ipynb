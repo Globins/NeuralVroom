{
 "cells": [
  {
   "cell_type": "code",
   "execution_count": 2,
   "metadata": {},
   "outputs": [
    {
     "name": "stdout",
     "output_type": "stream",
     "text": [
      "importing Jupyter notebook from ReedsShepp.ipynb\n",
      "importing Jupyter notebook from vehicle.ipynb\n",
      "importing Jupyter notebook from utils.ipynb\n"
     ]
    },
    {
     "data": {
      "image/png": "[encoded data removed]",
      "text/plain": [
       "<Figure size 432x288 with 1 Axes>"
      ]
     },
     "metadata": {
      "needs_background": "light"
     },
     "output_type": "display_data"
    }
   ],
   "source": [
    "import import_ipynb #Allows you to import ipynb files\n",
    "import turtle\n",
    "import numpy as np\n",
    "from ReedsShepp import ReedsSheppAction\n",
    "from vehicle import *"
   ]
  },
  {
   "cell_type": "code",
   "execution_count": 3,
   "metadata": {},
   "outputs": [],
   "source": [
    "class Drawer:\n",
    "    #resolution = measure of one centimeter\n",
    "    def __init__(self, vehicle:Vehicle=None, resolution:int = 10):\n",
    "        self.resolution = resolution\n",
    "        self.vehicle = vehicle\n",
    "        \n",
    "        self.screen = turtle.Screen()\n",
    "        self.screen.setup(width=900, height=900)\n",
    "        \n",
    "        self.car = turtle.Turtle()\n",
    "        self.car.speed(1)\n",
    "        self.car.shape('turtle')\n",
    "        self.car.resizemode('user')\n",
    "        self.car.pencolor('black')\n",
    "        #regular turtle 18 x 23 pixels\n",
    "        self.car.shapesize(self.vehicle.width/18*resolution,self.vehicle.length/23*resolution)\n",
    "        \n",
    "    def setSpeed(self, speed):\n",
    "        self.car.speed(speed)\n",
    "        \n",
    "    def setPositionandAngle(self, position:tuple = (0,0), angle:float=0.0):\n",
    "        self.car.up()\n",
    "        self.car.setpos(self.resolution*position[0], self.resolution*position[1])\n",
    "        self.car.setheading(angle)\n",
    "        self.car.down()\n",
    "        \n",
    "    def drawVectorArrow(self):\n",
    "        self.car.down()\n",
    "        self.car.pensize(4)\n",
    "        self.car.forward(self.resolution*.65)\n",
    "        self.car.right(40)\n",
    "        self.car.backward(self.resolution*.5)\n",
    "        self.car.forward(self.resolution*.5)\n",
    "        self.car.left(80)\n",
    "        self.car.backward(self.resolution*.5)\n",
    "        self.car.forward(self.resolution*.5)\n",
    "        self.car.right(40)\n",
    "        self.car.pensize(1)\n",
    "        self.car.up()\n",
    "        \n",
    "    def finish(self):\n",
    "        turtle.done()\n",
    "        \n",
    "    def drawPath(self, path):\n",
    "        for segment in path:\n",
    "            gear = 1 if segment.Gear == Gear.Forward else -1\n",
    "            if segment.Steer == Steer.Left:\n",
    "                self.car.circle(self.resolution, gear * np.rad2deg(segment.Length))\n",
    "            elif segment.Steer == Steer.Right:\n",
    "                self.car.circle(- self.resolution, gear * np.rad2deg(segment.Length))\n",
    "            elif segment.Steer == Steer.Straight:\n",
    "                self.car.forward(gear * self.resolution*segment.Length)\n",
    "        \n",
    "    def drawGrid(self, numCols, numRows):\n",
    "        grid = turtle.Turtle(visible=False)\n",
    "        grid.speed(0)\n",
    "        grid.dot()  # visualize origin\n",
    "        grid.penup()\n",
    "        cellsize = self.resolution*2\n",
    "        grid.goto(-cellsize * numCols / 2, cellsize * (numRows / 2 - 1))\n",
    "\n",
    "        for _ in range(numCols - 1):\n",
    "            grid.pendown()\n",
    "            grid.forward(numCols * cellsize)\n",
    "            grid.penup()\n",
    "            grid.goto(-cellsize * numCols / 2, grid.ycor() - cellsize)\n",
    "\n",
    "        grid.goto(-cellsize * (numCols / 2 - 1), cellsize * numCols / 2)\n",
    "\n",
    "        grid.setheading(270)\n",
    "\n",
    "        for _ in range(numRows - 1):\n",
    "            grid.pendown()\n",
    "            grid.forward(numRows * cellsize)\n",
    "            grid.penup()\n",
    "            grid.goto(grid.xcor() + cellsize, cellsize * numRows / 2)\n",
    "        \n",
    "        grid.goto(-cellsize * numRows / 2, cellsize * ((numRows+2) / 2 - 1))\n",
    "        grid.pendown()\n",
    "        grid.setheading(0)\n",
    "        grid.forward(numCols * cellsize)\n",
    "        grid.setheading(270)\n",
    "        grid.forward(numRows * cellsize)\n",
    "        grid.setheading(180)\n",
    "        grid.forward(numCols * cellsize)\n",
    "        grid.setheading(90)\n",
    "        grid.forward(numRows * cellsize)\n",
    "        grid.setheading(0)\n",
    "        \n",
    "    def addObstacle(self, x, y):\n",
    "        pass\n",
    "    def removeObsacle(self, x, y):\n",
    "        pass"
   ]
  },
  {
   "cell_type": "code",
   "execution_count": null,
   "metadata": {},
   "outputs": [],
   "source": []
  }
 ],
 "metadata": {
  "kernelspec": {
   "display_name": "Python 3",
   "language": "python",
   "name": "python3"
  },
  "language_info": {
   "codemirror_mode": {
    "name": "ipython",
    "version": 3
   },
   "file_extension": ".py",
   "mimetype": "text/x-python",
   "name": "python",
   "nbconvert_exporter": "python",
   "pygments_lexer": "ipython3",
   "version": "3.8.3"
  }
 },
 "nbformat": 4,
 "nbformat_minor": 4
}
