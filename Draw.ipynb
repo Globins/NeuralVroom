{
 "cells": [
  {
   "cell_type": "code",
   "execution_count": 1,
   "metadata": {},
   "outputs": [
    {
     "name": "stdout",
     "output_type": "stream",
     "text": [
      "importing Jupyter notebook from ReedsShepp.ipynb\n",
      "importing Jupyter notebook from vehicle.ipynb\n",
      "importing Jupyter notebook from utils.ipynb\n"
     ]
    }
   ],
   "source": [
    "import import_ipynb #Allows you to import ipynb files\n",
    "import turtle\n",
    "import numpy as np\n",
    "from ReedsShepp import ReedsSheppAction\n",
    "from vehicle import Steer,Gear"
   ]
  },
  {
   "cell_type": "code",
   "execution_count": 2,
   "metadata": {},
   "outputs": [],
   "source": [
    "class Drawer:\n",
    "    def __init__(self, resolution:int = 40):\n",
    "        self.resolution = resolution\n",
    "        self.turt = turtle.Turtle()\n",
    "        self.turt.speed(0)\n",
    "        self.turt.shape('arrow')\n",
    "        self.turt.resizemode('user')\n",
    "        self.turt.shapesize(1,1)\n",
    "        \n",
    "    def setSpeed(self, speed):\n",
    "        self.turt.speed(speed)\n",
    "        \n",
    "    def setPositionandAngle(self, position:tuple = (0,0), angle:float=0.0):\n",
    "        self.turt.up()\n",
    "        self.turt.setpos(position[0]*self.resolution, position[1]*self.resolution)\n",
    "        self.turt.setheading(angle)\n",
    "        self.turt.down()\n",
    "        \n",
    "    def drawVectorArrow(self):\n",
    "        self.turt.down()\n",
    "        self.turt.pensize(4)\n",
    "        self.turt.forward(self.resolution*.65)\n",
    "        self.turt.right(40)\n",
    "        self.turt.backward(self.resolution*.5)\n",
    "        self.turt.forward(self.resolution*.5)\n",
    "        self.turt.left(80)\n",
    "        self.turt.backward(self.resolution*.5)\n",
    "        self.turt.forward(self.resolution*.5)\n",
    "        self.turt.right(40)\n",
    "        self.turt.pensize(1)\n",
    "        self.turt.up()\n",
    "        \n",
    "    def finish(self):\n",
    "        turtle.done()\n",
    "        \n",
    "    def drawPath(self, path):\n",
    "        for segment in path:\n",
    "            gear = 1 if segment.Gear == Gear.Forward else -1\n",
    "            if segment.Steer == Steer.Left:\n",
    "                self.turt.circle(self.resolution, gear * np.rad2deg(segment.Length))\n",
    "            elif segment.Steer == Steer.Right:\n",
    "                self.turt.circle(- self.resolution, gear * np.rad2deg(segment.Length))\n",
    "            elif segment.Steer == Steer.Straight:\n",
    "                self.turt.forward(gear * self.resolution*segment.Length)\n",
    "    \n",
    "    def drawGrid(self):\n",
    "        pass"
   ]
  },
  {
   "cell_type": "code",
   "execution_count": null,
   "metadata": {},
   "outputs": [],
   "source": []
  },
  {
   "cell_type": "code",
   "execution_count": null,
   "metadata": {},
   "outputs": [],
   "source": []
  }
 ],
 "metadata": {
  "kernelspec": {
   "display_name": "Python 3",
   "language": "python",
   "name": "python3"
  },
  "language_info": {
   "codemirror_mode": {
    "name": "ipython",
    "version": 3
   },
   "file_extension": ".py",
   "mimetype": "text/x-python",
   "name": "python",
   "nbconvert_exporter": "python",
   "pygments_lexer": "ipython3",
   "version": "3.8.3"
  }
 },
 "nbformat": 4,
 "nbformat_minor": 4
}
