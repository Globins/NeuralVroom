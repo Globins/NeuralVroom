{
 "cells": [
  {
   "cell_type": "code",
   "execution_count": 1,
   "metadata": {},
   "outputs": [
    {
     "name": "stdout",
     "output_type": "stream",
     "text": [
      "importing Jupyter notebook from utils.ipynb\n"
     ]
    }
   ],
   "source": [
    "import import_ipynb #Allows you to import ipynb files\n",
    "from enum import Enum\n",
    "import numpy as np\n",
    "from utils import *"
   ]
  },
  {
   "cell_type": "code",
   "execution_count": 2,
   "metadata": {},
   "outputs": [],
   "source": [
    "class Gear(Enum):\n",
    "    \"\"\"Gear is a enum that returns a bool of whether the car is backwards or forwards\"\"\"\n",
    "    Forward = 1\n",
    "    Backward = 2"
   ]
  },
  {
   "cell_type": "code",
   "execution_count": 3,
   "metadata": {},
   "outputs": [],
   "source": [
    "class Steer(Enum):\n",
    "    \"\"\"Steer is an enum that returns a bool whether the car is going foward, left or right\"\"\"\n",
    "    Straight = 1\n",
    "    Left = 2\n",
    "    Right = 3"
   ]
  },
  {
   "cell_type": "code",
   "execution_count": 4,
   "metadata": {},
   "outputs": [],
   "source": [
    "class VehicleState:\n",
    "    \"\"\"Vehicle state of the simulated vehicle, keeps track of the vehicles current position,\n",
    "    orientation (in radians), angle of the wheels, and gear, NONDISCRETE MEASUREMENTS\"\"\"\n",
    "    def __init__(self, position:tuple = (0, 0), orientation:float = 0.0, gear:Gear=Gear.Forward, wheelAngle:float = 0.0):\n",
    "        self.position = position\n",
    "        self.orientation = orientation\n",
    "        self.wheelAngle = wheelAngle\n",
    "        self.gear = gear\n",
    "    def __eq__(self, other):\n",
    "        return self.position == other.position and self.orientation == other.orientation\n",
    "    def __ne__(self, other):\n",
    "        return self.positon != other.position or self.orientation != other.orientation\n",
    "    def getXPosition(self):\n",
    "        return self.position[0]\n",
    "    def __repr__(self):\n",
    "        return 'Point(Position=%s, Orientation=%s, gear=%s)' % (self.position, np.rad2deg(self.orientation), self.gear)"
   ]
  },
  {
   "cell_type": "code",
   "execution_count": 5,
   "metadata": {},
   "outputs": [],
   "source": [
    "class Vehicle:\n",
    "    \"\"\"Keeps track of vehicular statistics and holds functions for VehicleState\n",
    "    ALL MEASUREMENTS IN CM, ALL MEASURMENTS ARE NONDISCRETE\"\"\"\n",
    "    def __init__(self, size:tuple=(0,0), maxCarTurnAngle:float=33.75, velocity:float= 1):\n",
    "        self.width = size[0]\n",
    "        self.length = size[1]\n",
    "        \n",
    "        self.gears = [Gear.Forward, Gear.Backward]\n",
    "        self.steers = [Steer.Straight, Steer.Left, Steer.Right]\n",
    "        \n",
    "        self.maxCarTurnAngle = maxCarTurnAngle #in Degrees\n",
    "        self.turnRadius = 1#np.sin(self.maxCarTurnAngle)*self.length\n",
    "        \n",
    "        self.velocity = velocity\n",
    "\n",
    "    def getNextState(self, current:VehicleState, steer:Steer, gear:Gear, dt:float):\n",
    "        \"\"\"returns next state based on current vehicle state\"\"\"\n",
    "        length = self.velocity*dt\n",
    "        x = y = angle = 0\n",
    "        if(steer == Steer.Straight):\n",
    "            x = length\n",
    "        else:\n",
    "            angle = length / self.turnRadius\n",
    "            sinangle = np.sin(angle/2)\n",
    "            l = 2 * sinangle * self.turnRadius\n",
    "            x = l * np.cos(self.turnRadius)\n",
    "            y = l * sinangle\n",
    "        if(steer == Steer.Right):\n",
    "            y = -y\n",
    "            angle = -angle\n",
    "        if(gear == Gear.Backward):\n",
    "            x = -x\n",
    "            angle = -angle\n",
    "        correctPos = rotate((x,y), current.orientation)\n",
    "        return VehicleState(tuple(np.add(current.position, correctPos)), current.orientation + angle, gear), length"
   ]
  },
  {
   "cell_type": "code",
   "execution_count": null,
   "metadata": {},
   "outputs": [],
   "source": []
  }
 ],
 "metadata": {
  "kernelspec": {
   "display_name": "Python 3",
   "language": "python",
   "name": "python3"
  },
  "language_info": {
   "codemirror_mode": {
    "name": "ipython",
    "version": 3
   },
   "file_extension": ".py",
   "mimetype": "text/x-python",
   "name": "python",
   "nbconvert_exporter": "python",
   "pygments_lexer": "ipython3",
   "version": "3.8.3"
  }
 },
 "nbformat": 4,
 "nbformat_minor": 4
}
